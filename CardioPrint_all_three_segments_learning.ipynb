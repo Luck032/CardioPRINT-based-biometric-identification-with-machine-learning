{
 "cells": [
  {
   "cell_type": "code",
   "execution_count": 60,
   "metadata": {},
   "outputs": [],
   "source": [
    "# Obucavanje se vrsi na sva tri (dva) segmenta, u zavisnosi od nacina snimanja\n",
    "# Tesiranje alogritma se vrsi koriscenjem train-test-split\n",
    "# Testirani modeli su: RF, SVM, GNB, LDA"
   ]
  },
  {
   "cell_type": "code",
   "execution_count": 61,
   "metadata": {},
   "outputs": [],
   "source": [
    "import numpy as np\n",
    "import pandas as pd\n",
    "import matplotlib.pyplot as plt\n",
    "import sklearn\n",
    "import scipy.stats as stats"
   ]
  },
  {
   "cell_type": "code",
   "execution_count": 62,
   "metadata": {},
   "outputs": [],
   "source": [
    "from sklearn.metrics import precision_recall_fscore_support"
   ]
  },
  {
   "cell_type": "code",
   "execution_count": 63,
   "metadata": {},
   "outputs": [],
   "source": [
    "from sklearn.model_selection import cross_val_score\n",
    "from sklearn.preprocessing import LabelEncoder"
   ]
  },
  {
   "cell_type": "code",
   "execution_count": 64,
   "metadata": {},
   "outputs": [],
   "source": [
    "from sklearn.metrics import classification_report, accuracy_score"
   ]
  },
  {
   "cell_type": "code",
   "execution_count": 65,
   "metadata": {},
   "outputs": [],
   "source": [
    "import pickle"
   ]
  },
  {
   "cell_type": "code",
   "execution_count": 66,
   "metadata": {},
   "outputs": [],
   "source": [
    "import numpy as np\n",
    "from scipy import stats\n",
    "import pingouin as pg\n"
   ]
  },
  {
   "cell_type": "code",
   "execution_count": 67,
   "metadata": {},
   "outputs": [],
   "source": [
    "import warnings\n",
    "warnings.filterwarnings('ignore')"
   ]
  },
  {
   "cell_type": "code",
   "execution_count": 68,
   "metadata": {},
   "outputs": [],
   "source": [
    "%matplotlib inline"
   ]
  },
  {
   "cell_type": "code",
   "execution_count": 69,
   "metadata": {},
   "outputs": [],
   "source": [
    "dat_12_samples = pd.read_csv('/Features.csv',sep=',')\n",
    "dat_8_samples = pd.read_csv('/Features_without_neutral.csv',sep=',')"
   ]
  },
  {
   "cell_type": "code",
   "execution_count": 70,
   "metadata": {},
   "outputs": [],
   "source": [
    "temp = dat_12_samples.iloc[0,0]"
   ]
  },
  {
   "cell_type": "code",
   "execution_count": 71,
   "metadata": {},
   "outputs": [],
   "source": [
    "for i in range(len(dat_12_samples)):\n",
    "    temp = dat_12_samples.iloc[i,0]\n",
    "    dat_12_samples.iloc[i,0] = temp[:-4]"
   ]
  },
  {
   "cell_type": "code",
   "execution_count": 72,
   "metadata": {},
   "outputs": [],
   "source": [
    "for i in range(len(dat_8_samples)):\n",
    "    temp = dat_8_samples.iloc[i,0]\n",
    "    dat_8_samples.iloc[i,0] = temp[:-4]"
   ]
  },
  {
   "cell_type": "code",
   "execution_count": 73,
   "metadata": {},
   "outputs": [],
   "source": [
    "temp1 = dat_12_samples['examinee'].value_counts()\n",
    "temp2 = dat_8_samples['examinee'].value_counts()"
   ]
  },
  {
   "cell_type": "code",
   "execution_count": 74,
   "metadata": {},
   "outputs": [],
   "source": [
    "dat = pd.concat([dat_12_samples,dat_8_samples])"
   ]
  },
  {
   "cell_type": "code",
   "execution_count": 75,
   "metadata": {},
   "outputs": [],
   "source": [
    "from sklearn.preprocessing import StandardScaler"
   ]
  },
  {
   "cell_type": "code",
   "execution_count": 76,
   "metadata": {},
   "outputs": [],
   "source": [
    "scaler = StandardScaler()"
   ]
  },
  {
   "cell_type": "code",
   "execution_count": 77,
   "metadata": {},
   "outputs": [],
   "source": [
    "# with open('subject_ID.pkl', 'rb') as f:\n",
    "#     le = pickle.load(f)\n",
    "    \n",
    "# y = le.transform(dat['examinee'])"
   ]
  },
  {
   "cell_type": "code",
   "execution_count": 78,
   "metadata": {},
   "outputs": [],
   "source": [
    "X = dat.drop('examinee',axis=1)\n",
    "y = dat['examinee']"
   ]
  },
  {
   "cell_type": "code",
   "execution_count": 120,
   "metadata": {},
   "outputs": [],
   "source": [
    "unique_values, counts = np.unique(y, return_counts=True)\n",
    "\n",
    "# Print the results\n",
    "for value, count in zip(unique_values, counts):\n",
    "    if count not in [12,8]:\n",
    "        print(f\"Value {value}: {count} times\")"
   ]
  },
  {
   "cell_type": "code",
   "execution_count": 80,
   "metadata": {},
   "outputs": [],
   "source": [
    "le = LabelEncoder()\n",
    "\n",
    "y = le.fit_transform(y)"
   ]
  },
  {
   "cell_type": "code",
   "execution_count": 81,
   "metadata": {},
   "outputs": [],
   "source": [
    "ECG = ['QRS_int','T_int','QT_int','RS_amp','RQ_amp','ECGTcrest','TT1_amp','TT2_amp','RR']"
   ]
  },
  {
   "cell_type": "code",
   "execution_count": 82,
   "metadata": {},
   "outputs": [],
   "source": [
    "ICG = ['RC_int','RC_int2','BX_int','BX_int2','CB_amp','CX_amp','ICGcrest','CC']"
   ]
  },
  {
   "cell_type": "code",
   "execution_count": 83,
   "metadata": {},
   "outputs": [
    {
     "data": {
      "text/plain": [
       "['RC_int',\n",
       " 'RC_int2',\n",
       " 'BX_int',\n",
       " 'BX_int2',\n",
       " 'CB_amp',\n",
       " 'CX_amp',\n",
       " 'ICGcrest',\n",
       " 'CC']"
      ]
     },
     "execution_count": 83,
     "metadata": {},
     "output_type": "execute_result"
    }
   ],
   "source": [
    "ICG"
   ]
  },
  {
   "cell_type": "code",
   "execution_count": 84,
   "metadata": {},
   "outputs": [],
   "source": [
    "values, counts = np.unique(y,return_counts=True)"
   ]
  },
  {
   "cell_type": "code",
   "execution_count": 85,
   "metadata": {},
   "outputs": [],
   "source": [
    "from sklearn.model_selection import train_test_split"
   ]
  },
  {
   "cell_type": "code",
   "execution_count": 86,
   "metadata": {},
   "outputs": [],
   "source": [
    "with open('best_params_all.pkl', 'rb') as f:\n",
    "    best_params_all = pickle.load(f)"
   ]
  },
  {
   "cell_type": "code",
   "execution_count": 87,
   "metadata": {},
   "outputs": [
    {
     "name": "stdout",
     "output_type": "stream",
     "text": [
      "{'criterion': 'entropy', 'max_depth': 10, 'max_features': 'sqrt', 'n_estimators': 500}\n"
     ]
    }
   ],
   "source": [
    "print(best_params_all['RF'])"
   ]
  },
  {
   "cell_type": "code",
   "execution_count": 88,
   "metadata": {},
   "outputs": [
    {
     "data": {
      "text/plain": [
       "dict_keys(['RF', 'SVM', 'LDA', 'GNB'])"
      ]
     },
     "execution_count": 88,
     "metadata": {},
     "output_type": "execute_result"
    }
   ],
   "source": [
    "best_params_all.keys()"
   ]
  },
  {
   "cell_type": "code",
   "execution_count": 89,
   "metadata": {},
   "outputs": [],
   "source": [
    "# train = {'ECG':ECG,'ICG':ICG,'Both':X.columns.to_list()}"
   ]
  },
  {
   "cell_type": "code",
   "execution_count": 90,
   "metadata": {},
   "outputs": [],
   "source": [
    "both = ECG.copy()\n",
    "both.extend(ICG)\n",
    "keys = [ECG,ICG,both]"
   ]
  },
  {
   "cell_type": "code",
   "execution_count": 91,
   "metadata": {},
   "outputs": [],
   "source": [
    "# X_train, X_test, y_train, y_test = train_test_split(X, y, test_size = 0.25, stratify=y)"
   ]
  },
  {
   "cell_type": "code",
   "execution_count": 92,
   "metadata": {},
   "outputs": [],
   "source": [
    "scaler_dic = {}\n",
    "scaler_dic[0] = StandardScaler().fit(X[keys[0]])\n",
    "scaler_dic[1] = StandardScaler().fit(X[keys[1]])\n",
    "scaler_dic[2] = StandardScaler().fit(X[keys[2]])"
   ]
  },
  {
   "cell_type": "code",
   "execution_count": 93,
   "metadata": {},
   "outputs": [],
   "source": [
    "num_runs = 20"
   ]
  },
  {
   "cell_type": "code",
   "execution_count": 94,
   "metadata": {},
   "outputs": [],
   "source": [
    "from sklearn.ensemble import RandomForestClassifier"
   ]
  },
  {
   "cell_type": "code",
   "execution_count": 95,
   "metadata": {},
   "outputs": [],
   "source": [
    "rforest_scores = np.zeros((num_runs,3))\n",
    "rforest_precision_recall_fscore = np.zeros((num_runs,3,4))\n",
    "for i in range(num_runs):\n",
    "    X_train, X_test, y_train, y_test = train_test_split(X, y, test_size = 0.25, stratify=y)\n",
    "    for num, i_key in enumerate(keys):\n",
    "        rforest = RandomForestClassifier(n_jobs=-1,**best_params_all['RF'])\n",
    "        rforest.fit(X_train[i_key],y_train)\n",
    "        y_hat = rforest.predict(X_test[i_key])\n",
    "        rforest_scores[i,num] = accuracy_score(y_test, y_hat)\n",
    "        rforest_precision_recall_fscore[i,num,:] = precision_recall_fscore_support(y_test,y_hat, average='weighted')"
   ]
  },
  {
   "cell_type": "code",
   "execution_count": 96,
   "metadata": {},
   "outputs": [],
   "source": [
    "temp = precision_recall_fscore_support(y_test,y_hat,average='weighted')"
   ]
  },
  {
   "cell_type": "code",
   "execution_count": 97,
   "metadata": {},
   "outputs": [
    {
     "name": "stdout",
     "output_type": "stream",
     "text": [
      "Shapiro-Wilk test results:\n",
      "Feature Set 1 p-value: 0.8965145945549011\n",
      "Feature Set 2 p-value: 0.19625937938690186\n",
      "Feature Set 3 p-value: 0.13787363469600677\n",
      "The data follows a normal distribution. Performing repeated measures ANOVA.\n",
      "ANOVA results:\n",
      "      Source  ddof1  ddof2             F         p-unc       ng2       eps\n",
      "0  features      2     38  10566.428553  6.712093e-53  0.995663  0.696361\n",
      "Paired t-test between Feature Set 1 and Feature Set 2: p-value = 3.161788517117298e-26\n",
      "Paired t-test between Feature Set 1 and Feature Set 3: p-value = 8.603009669619133e-13\n",
      "Paired t-test between Feature Set 2 and Feature Set 3: p-value = 5.1158943086831685e-30\n"
     ]
    }
   ],
   "source": [
    "# Classification accuracy for each feature set\n",
    "feature_set1 = rforest_scores[:, 0]\n",
    "feature_set2 = rforest_scores[:, 1]\n",
    "feature_set3 = rforest_scores[:, 2]\n",
    "\n",
    "# Perform Shapiro-Wilk test for normality\n",
    "_, p_value1 = stats.shapiro(feature_set1)\n",
    "_, p_value2 = stats.shapiro(feature_set2)\n",
    "_, p_value3 = stats.shapiro(feature_set3)\n",
    "\n",
    "print(\"Shapiro-Wilk test results:\")\n",
    "print(\"Feature Set 1 p-value:\", p_value1)\n",
    "print(\"Feature Set 2 p-value:\", p_value2)\n",
    "print(\"Feature Set 3 p-value:\", p_value3)\n",
    "\n",
    "# Check normality assumption\n",
    "if any(p_value < 0.05 for p_value in [p_value1, p_value2, p_value3]):\n",
    "    # Non-normal data: use Friedman test\n",
    "    print(\"The data does not follow a normal distribution. Performing Friedman test.\")\n",
    "    statistic, p_value = stats.friedmanchisquare(feature_set1, feature_set2, feature_set3)\n",
    "    \n",
    "    if p_value < 0.05:\n",
    "        # Significant result in Friedman test, use Wilcoxon signed-rank test as post-hoc\n",
    "        wilcox_results = []\n",
    "        wilcox_results.append(stats.wilcoxon(feature_set1, feature_set2))\n",
    "        wilcox_results.append(stats.wilcoxon(feature_set1, feature_set3))\n",
    "        wilcox_results.append(stats.wilcoxon(feature_set2, feature_set3))\n",
    "        \n",
    "        # Apply correction for multiple comparisons (e.g., Bonferroni)\n",
    "        alpha = 0.05\n",
    "        adjusted_alpha = alpha / len(wilcox_results)\n",
    "        \n",
    "        for i, (set1, set2) in enumerate([(feature_set1, feature_set2), (feature_set1, feature_set3), (feature_set2, feature_set3)]):\n",
    "            _, adjusted_p = wilcox_results[i]\n",
    "            if adjusted_p < adjusted_alpha:\n",
    "                print(f\"Wilcoxon test between Feature Set {i + 1} and Feature Set {i + 2} is significant (adjusted p-value: {adjusted_p})\")\n",
    "            else:\n",
    "                print(f\"Wilcoxon test between Feature Set {i + 1} and Feature Set {i + 2} is not significant (adjusted p-value: {adjusted_p})\")\n",
    "    \n",
    "else:\n",
    "    # Normally distributed data: use repeated measures ANOVA\n",
    "    print(\"The data follows a normal distribution. Performing repeated measures ANOVA.\")\n",
    "    \n",
    "    df = pd.DataFrame({\n",
    "        'scores': np.concatenate([feature_set1, feature_set2, feature_set3]),\n",
    "        'features': np.array(['Feature Set 1'] * len(feature_set1) + ['Feature Set 2'] * len(feature_set2) + ['Feature Set 3'] * len(feature_set3)),\n",
    "        'subjects': np.concatenate([np.arange(len(feature_set1)) for _ in range(3)])\n",
    "    })\n",
    "    \n",
    "    aov = pg.rm_anova(dv='scores', within='features', subject='subjects', data=df)\n",
    "    p_value = aov.at[0, 'p-unc']\n",
    "    \n",
    "    print(\"ANOVA results:\\n\", aov)\n",
    "    \n",
    "    if p_value < 0.05:\n",
    "        # Significant result in ANOVA, use paired t-tests with Bonferroni correction\n",
    "        pairs = [('Feature Set 1', 'Feature Set 2'), ('Feature Set 1', 'Feature Set 3'), ('Feature Set 2', 'Feature Set 3')]\n",
    "        for p1, p2 in pairs:\n",
    "            _, p_val = stats.ttest_rel(df[df['features'] == p1]['scores'], df[df['features'] == p2]['scores'])\n",
    "            \n",
    "            # Applying Bonferroni correction\n",
    "            corrected_p = p_val * 3\n",
    "            print(f\"Paired t-test between {p1} and {p2}: p-value = {corrected_p}\")\n"
   ]
  },
  {
   "cell_type": "code",
   "execution_count": 98,
   "metadata": {},
   "outputs": [],
   "source": [
    "rforest_mean = np.mean(rforest_scores, axis = 0)*100\n",
    "rforest_std = np.std(rforest_scores, axis = 0)*100"
   ]
  },
  {
   "cell_type": "code",
   "execution_count": 99,
   "metadata": {},
   "outputs": [],
   "source": [
    "from sklearn.discriminant_analysis import LinearDiscriminantAnalysis"
   ]
  },
  {
   "cell_type": "code",
   "execution_count": 100,
   "metadata": {},
   "outputs": [
    {
     "data": {
      "text/html": [
       "<div>\n",
       "<style scoped>\n",
       "    .dataframe tbody tr th:only-of-type {\n",
       "        vertical-align: middle;\n",
       "    }\n",
       "\n",
       "    .dataframe tbody tr th {\n",
       "        vertical-align: top;\n",
       "    }\n",
       "\n",
       "    .dataframe thead th {\n",
       "        text-align: right;\n",
       "    }\n",
       "</style>\n",
       "<table border=\"1\" class=\"dataframe\">\n",
       "  <thead>\n",
       "    <tr style=\"text-align: right;\">\n",
       "      <th></th>\n",
       "      <th>QRS_int</th>\n",
       "      <th>T_int</th>\n",
       "      <th>QT_int</th>\n",
       "      <th>RS_amp</th>\n",
       "      <th>RQ_amp</th>\n",
       "      <th>ECGTcrest</th>\n",
       "      <th>TT1_amp</th>\n",
       "      <th>TT2_amp</th>\n",
       "      <th>RR</th>\n",
       "      <th>RC_int</th>\n",
       "      <th>RC_int2</th>\n",
       "      <th>BX_int</th>\n",
       "      <th>BX_int2</th>\n",
       "      <th>CB_amp</th>\n",
       "      <th>CX_amp</th>\n",
       "      <th>ICGcrest</th>\n",
       "      <th>CC</th>\n",
       "    </tr>\n",
       "  </thead>\n",
       "  <tbody>\n",
       "    <tr>\n",
       "      <th>971</th>\n",
       "      <td>67.0</td>\n",
       "      <td>209.91</td>\n",
       "      <td>381.70</td>\n",
       "      <td>1.19</td>\n",
       "      <td>0.98</td>\n",
       "      <td>1.78</td>\n",
       "      <td>0.36</td>\n",
       "      <td>0.36</td>\n",
       "      <td>916.9</td>\n",
       "      <td>69.95</td>\n",
       "      <td>73.05</td>\n",
       "      <td>270.5</td>\n",
       "      <td>282.49</td>\n",
       "      <td>0.85</td>\n",
       "      <td>1.09</td>\n",
       "      <td>2.08</td>\n",
       "      <td>916.0</td>\n",
       "    </tr>\n",
       "    <tr>\n",
       "      <th>228</th>\n",
       "      <td>59.5</td>\n",
       "      <td>259.98</td>\n",
       "      <td>446.60</td>\n",
       "      <td>1.08</td>\n",
       "      <td>0.83</td>\n",
       "      <td>1.51</td>\n",
       "      <td>0.06</td>\n",
       "      <td>0.05</td>\n",
       "      <td>603.7</td>\n",
       "      <td>65.80</td>\n",
       "      <td>84.69</td>\n",
       "      <td>353.0</td>\n",
       "      <td>454.32</td>\n",
       "      <td>1.06</td>\n",
       "      <td>1.94</td>\n",
       "      <td>1.63</td>\n",
       "      <td>604.4</td>\n",
       "    </tr>\n",
       "    <tr>\n",
       "      <th>823</th>\n",
       "      <td>66.0</td>\n",
       "      <td>218.25</td>\n",
       "      <td>430.73</td>\n",
       "      <td>1.00</td>\n",
       "      <td>1.04</td>\n",
       "      <td>1.69</td>\n",
       "      <td>0.13</td>\n",
       "      <td>0.10</td>\n",
       "      <td>749.9</td>\n",
       "      <td>62.35</td>\n",
       "      <td>72.00</td>\n",
       "      <td>280.5</td>\n",
       "      <td>323.92</td>\n",
       "      <td>1.71</td>\n",
       "      <td>1.91</td>\n",
       "      <td>1.99</td>\n",
       "      <td>748.8</td>\n",
       "    </tr>\n",
       "    <tr>\n",
       "      <th>1292</th>\n",
       "      <td>87.0</td>\n",
       "      <td>246.58</td>\n",
       "      <td>491.89</td>\n",
       "      <td>0.89</td>\n",
       "      <td>0.84</td>\n",
       "      <td>1.81</td>\n",
       "      <td>0.16</td>\n",
       "      <td>0.16</td>\n",
       "      <td>619.0</td>\n",
       "      <td>75.90</td>\n",
       "      <td>96.47</td>\n",
       "      <td>264.0</td>\n",
       "      <td>335.55</td>\n",
       "      <td>1.50</td>\n",
       "      <td>1.68</td>\n",
       "      <td>1.87</td>\n",
       "      <td>619.0</td>\n",
       "    </tr>\n",
       "    <tr>\n",
       "      <th>1714</th>\n",
       "      <td>57.0</td>\n",
       "      <td>240.77</td>\n",
       "      <td>416.61</td>\n",
       "      <td>1.12</td>\n",
       "      <td>1.11</td>\n",
       "      <td>1.70</td>\n",
       "      <td>0.30</td>\n",
       "      <td>0.30</td>\n",
       "      <td>854.0</td>\n",
       "      <td>134.30</td>\n",
       "      <td>145.33</td>\n",
       "      <td>247.5</td>\n",
       "      <td>267.82</td>\n",
       "      <td>1.16</td>\n",
       "      <td>2.48</td>\n",
       "      <td>1.62</td>\n",
       "      <td>847.3</td>\n",
       "    </tr>\n",
       "    <tr>\n",
       "      <th>...</th>\n",
       "      <td>...</td>\n",
       "      <td>...</td>\n",
       "      <td>...</td>\n",
       "      <td>...</td>\n",
       "      <td>...</td>\n",
       "      <td>...</td>\n",
       "      <td>...</td>\n",
       "      <td>...</td>\n",
       "      <td>...</td>\n",
       "      <td>...</td>\n",
       "      <td>...</td>\n",
       "      <td>...</td>\n",
       "      <td>...</td>\n",
       "      <td>...</td>\n",
       "      <td>...</td>\n",
       "      <td>...</td>\n",
       "      <td>...</td>\n",
       "    </tr>\n",
       "    <tr>\n",
       "      <th>468</th>\n",
       "      <td>66.5</td>\n",
       "      <td>198.61</td>\n",
       "      <td>384.73</td>\n",
       "      <td>0.76</td>\n",
       "      <td>0.57</td>\n",
       "      <td>1.67</td>\n",
       "      <td>0.12</td>\n",
       "      <td>0.14</td>\n",
       "      <td>776.4</td>\n",
       "      <td>84.40</td>\n",
       "      <td>95.79</td>\n",
       "      <td>257.5</td>\n",
       "      <td>292.24</td>\n",
       "      <td>1.01</td>\n",
       "      <td>1.65</td>\n",
       "      <td>1.73</td>\n",
       "      <td>777.8</td>\n",
       "    </tr>\n",
       "    <tr>\n",
       "      <th>263</th>\n",
       "      <td>57.5</td>\n",
       "      <td>209.81</td>\n",
       "      <td>407.61</td>\n",
       "      <td>1.14</td>\n",
       "      <td>0.86</td>\n",
       "      <td>1.65</td>\n",
       "      <td>0.12</td>\n",
       "      <td>0.16</td>\n",
       "      <td>626.0</td>\n",
       "      <td>68.80</td>\n",
       "      <td>86.96</td>\n",
       "      <td>307.0</td>\n",
       "      <td>388.02</td>\n",
       "      <td>0.88</td>\n",
       "      <td>1.60</td>\n",
       "      <td>1.59</td>\n",
       "      <td>625.9</td>\n",
       "    </tr>\n",
       "    <tr>\n",
       "      <th>270</th>\n",
       "      <td>76.0</td>\n",
       "      <td>240.29</td>\n",
       "      <td>461.91</td>\n",
       "      <td>1.77</td>\n",
       "      <td>1.42</td>\n",
       "      <td>1.62</td>\n",
       "      <td>0.32</td>\n",
       "      <td>0.30</td>\n",
       "      <td>645.1</td>\n",
       "      <td>77.65</td>\n",
       "      <td>96.68</td>\n",
       "      <td>397.0</td>\n",
       "      <td>494.28</td>\n",
       "      <td>1.34</td>\n",
       "      <td>1.57</td>\n",
       "      <td>1.83</td>\n",
       "      <td>644.8</td>\n",
       "    </tr>\n",
       "    <tr>\n",
       "      <th>541</th>\n",
       "      <td>86.5</td>\n",
       "      <td>217.56</td>\n",
       "      <td>419.24</td>\n",
       "      <td>0.89</td>\n",
       "      <td>0.72</td>\n",
       "      <td>1.73</td>\n",
       "      <td>0.20</td>\n",
       "      <td>0.22</td>\n",
       "      <td>723.1</td>\n",
       "      <td>68.25</td>\n",
       "      <td>80.26</td>\n",
       "      <td>273.0</td>\n",
       "      <td>321.04</td>\n",
       "      <td>1.13</td>\n",
       "      <td>1.85</td>\n",
       "      <td>1.96</td>\n",
       "      <td>723.8</td>\n",
       "    </tr>\n",
       "    <tr>\n",
       "      <th>58</th>\n",
       "      <td>56.5</td>\n",
       "      <td>186.56</td>\n",
       "      <td>405.45</td>\n",
       "      <td>1.06</td>\n",
       "      <td>0.93</td>\n",
       "      <td>1.53</td>\n",
       "      <td>0.13</td>\n",
       "      <td>0.12</td>\n",
       "      <td>646.5</td>\n",
       "      <td>62.50</td>\n",
       "      <td>77.73</td>\n",
       "      <td>381.0</td>\n",
       "      <td>473.85</td>\n",
       "      <td>1.60</td>\n",
       "      <td>1.81</td>\n",
       "      <td>2.31</td>\n",
       "      <td>645.7</td>\n",
       "    </tr>\n",
       "  </tbody>\n",
       "</table>\n",
       "<p>1641 rows × 17 columns</p>\n",
       "</div>"
      ],
      "text/plain": [
       "      QRS_int   T_int  QT_int  RS_amp  RQ_amp  ECGTcrest  TT1_amp  TT2_amp  \\\n",
       "971      67.0  209.91  381.70    1.19    0.98       1.78     0.36     0.36   \n",
       "228      59.5  259.98  446.60    1.08    0.83       1.51     0.06     0.05   \n",
       "823      66.0  218.25  430.73    1.00    1.04       1.69     0.13     0.10   \n",
       "1292     87.0  246.58  491.89    0.89    0.84       1.81     0.16     0.16   \n",
       "1714     57.0  240.77  416.61    1.12    1.11       1.70     0.30     0.30   \n",
       "...       ...     ...     ...     ...     ...        ...      ...      ...   \n",
       "468      66.5  198.61  384.73    0.76    0.57       1.67     0.12     0.14   \n",
       "263      57.5  209.81  407.61    1.14    0.86       1.65     0.12     0.16   \n",
       "270      76.0  240.29  461.91    1.77    1.42       1.62     0.32     0.30   \n",
       "541      86.5  217.56  419.24    0.89    0.72       1.73     0.20     0.22   \n",
       "58       56.5  186.56  405.45    1.06    0.93       1.53     0.13     0.12   \n",
       "\n",
       "         RR  RC_int  RC_int2  BX_int  BX_int2  CB_amp  CX_amp  ICGcrest     CC  \n",
       "971   916.9   69.95    73.05   270.5   282.49    0.85    1.09      2.08  916.0  \n",
       "228   603.7   65.80    84.69   353.0   454.32    1.06    1.94      1.63  604.4  \n",
       "823   749.9   62.35    72.00   280.5   323.92    1.71    1.91      1.99  748.8  \n",
       "1292  619.0   75.90    96.47   264.0   335.55    1.50    1.68      1.87  619.0  \n",
       "1714  854.0  134.30   145.33   247.5   267.82    1.16    2.48      1.62  847.3  \n",
       "...     ...     ...      ...     ...      ...     ...     ...       ...    ...  \n",
       "468   776.4   84.40    95.79   257.5   292.24    1.01    1.65      1.73  777.8  \n",
       "263   626.0   68.80    86.96   307.0   388.02    0.88    1.60      1.59  625.9  \n",
       "270   645.1   77.65    96.68   397.0   494.28    1.34    1.57      1.83  644.8  \n",
       "541   723.1   68.25    80.26   273.0   321.04    1.13    1.85      1.96  723.8  \n",
       "58    646.5   62.50    77.73   381.0   473.85    1.60    1.81      2.31  645.7  \n",
       "\n",
       "[1641 rows x 17 columns]"
      ]
     },
     "execution_count": 100,
     "metadata": {},
     "output_type": "execute_result"
    }
   ],
   "source": [
    "X_train[i_key]"
   ]
  },
  {
   "cell_type": "code",
   "execution_count": 101,
   "metadata": {},
   "outputs": [],
   "source": [
    "lda_scores = np.zeros((num_runs,3))\n",
    "lda_precision_recall_fscore = np.zeros((num_runs,3,4))\n",
    "for i in range(num_runs):\n",
    "    X_train, X_test, y_train, y_test = train_test_split(X, y, test_size = 0.25, stratify=y)\n",
    "    for num, i_key in enumerate(keys):\n",
    "        lda = LinearDiscriminantAnalysis(**best_params_all['LDA'])\n",
    "        lda.fit(scaler_dic[num].transform(X_train[i_key]),y_train)\n",
    "        y_hat = lda.predict(scaler_dic[num].transform(X_test[i_key]))\n",
    "        lda_scores[i,num] = (accuracy_score(y_test, y_hat))\n",
    "        lda_precision_recall_fscore[i,num,:] = precision_recall_fscore_support(y_test,y_hat,average='weighted')"
   ]
  },
  {
   "cell_type": "code",
   "execution_count": 102,
   "metadata": {},
   "outputs": [
    {
     "name": "stdout",
     "output_type": "stream",
     "text": [
      "Shapiro-Wilk test results:\n",
      "Feature Set 1 p-value: 0.799420177936554\n",
      "Feature Set 2 p-value: 0.07385740429162979\n",
      "Feature Set 3 p-value: 0.010053030215203762\n",
      "The data does not follow a normal distribution. Performing Friedman test.\n",
      "Wilcoxon test between Feature Set 1 and Feature Set 2 is significant (adjusted p-value: 1.9073486328125e-06)\n",
      "Wilcoxon test between Feature Set 2 and Feature Set 3 is significant (adjusted p-value: 1.9073486328125e-06)\n",
      "Wilcoxon test between Feature Set 3 and Feature Set 4 is significant (adjusted p-value: 1.9073486328125e-06)\n"
     ]
    }
   ],
   "source": [
    "import numpy as np\n",
    "from scipy import stats\n",
    "import pingouin as pg\n",
    "\n",
    "# Classification accuracy for each feature set\n",
    "feature_set1 = lda_scores[:, 0]\n",
    "feature_set2 = lda_scores[:, 1]\n",
    "feature_set3 = lda_scores[:, 2]\n",
    "\n",
    "# Perform Shapiro-Wilk test for normality\n",
    "_, p_value1 = stats.shapiro(feature_set1)\n",
    "_, p_value2 = stats.shapiro(feature_set2)\n",
    "_, p_value3 = stats.shapiro(feature_set3)\n",
    "\n",
    "print(\"Shapiro-Wilk test results:\")\n",
    "print(\"Feature Set 1 p-value:\", p_value1)\n",
    "print(\"Feature Set 2 p-value:\", p_value2)\n",
    "print(\"Feature Set 3 p-value:\", p_value3)\n",
    "\n",
    "# Check normality assumption\n",
    "if any(p_value < 0.05 for p_value in [p_value1, p_value2, p_value3]):\n",
    "    # Non-normal data: use Friedman test\n",
    "    print(\"The data does not follow a normal distribution. Performing Friedman test.\")\n",
    "    statistic, p_value = stats.friedmanchisquare(feature_set1, feature_set2, feature_set3)\n",
    "    \n",
    "    if p_value < 0.05:\n",
    "        # Significant result in Friedman test, use Wilcoxon signed-rank test as post-hoc\n",
    "        wilcox_results = []\n",
    "        wilcox_results.append(stats.wilcoxon(feature_set1, feature_set2))\n",
    "        wilcox_results.append(stats.wilcoxon(feature_set1, feature_set3))\n",
    "        wilcox_results.append(stats.wilcoxon(feature_set2, feature_set3))\n",
    "        \n",
    "        # Apply correction for multiple comparisons (e.g., Bonferroni)\n",
    "        alpha = 0.05\n",
    "        adjusted_alpha = alpha / len(wilcox_results)\n",
    "        \n",
    "        for i, (set1, set2) in enumerate([(feature_set1, feature_set2), (feature_set1, feature_set3), (feature_set2, feature_set3)]):\n",
    "            _, adjusted_p = wilcox_results[i]\n",
    "            if adjusted_p < adjusted_alpha:\n",
    "                print(f\"Wilcoxon test between Feature Set {i + 1} and Feature Set {i + 2} is significant (adjusted p-value: {adjusted_p})\")\n",
    "            else:\n",
    "                print(f\"Wilcoxon test between Feature Set {i + 1} and Feature Set {i + 2} is not significant (adjusted p-value: {adjusted_p})\")\n",
    "\n",
    "    \n",
    "else:\n",
    "    # Normally distributed data: use repeated measures ANOVA\n",
    "    print(\"The data follows a normal distribution. Performing repeated measures ANOVA.\")\n",
    "    \n",
    "    df = pd.DataFrame({\n",
    "        'scores': np.concatenate([feature_set1, feature_set2, feature_set3]),\n",
    "        'features': np.array(['Feature Set 1'] * len(feature_set1) + ['Feature Set 2'] * len(feature_set2) + ['Feature Set 3'] * len(feature_set3)),\n",
    "        'subjects': np.concatenate([np.arange(len(feature_set1)) for _ in range(3)])\n",
    "    })\n",
    "    \n",
    "    aov = pg.rm_anova(dv='scores', within='features', subject='subjects', data=df)\n",
    "    p_value = aov.at[0, 'p-unc']\n",
    "    \n",
    "    print(\"ANOVA results:\\n\", aov)\n",
    "    \n",
    "    if p_value < 0.05:\n",
    "        # Significant result in ANOVA, use paired t-tests with Bonferroni correction\n",
    "        pairs = [('Feature Set 1', 'Feature Set 2'), ('Feature Set 1', 'Feature Set 3'), ('Feature Set 2', 'Feature Set 3')]\n",
    "        for p1, p2 in pairs:\n",
    "            _, p_val = stats.ttest_rel(df[df['features'] == p1]['scores'], df[df['features'] == p2]['scores'])\n",
    "            \n",
    "            # Applying Bonferroni correction\n",
    "            corrected_p = p_val * 3\n",
    "            print(f\"Paired t-test between {p1} and {p2}: p-value = {corrected_p}\")\n"
   ]
  },
  {
   "cell_type": "code",
   "execution_count": 103,
   "metadata": {},
   "outputs": [],
   "source": [
    "lda_mean = np.mean(lda_scores,axis=0)*100\n",
    "lda_std = np.std(lda_scores,axis=0)*100"
   ]
  },
  {
   "cell_type": "code",
   "execution_count": 104,
   "metadata": {},
   "outputs": [],
   "source": [
    "from sklearn.naive_bayes import GaussianNB"
   ]
  },
  {
   "cell_type": "code",
   "execution_count": 105,
   "metadata": {},
   "outputs": [
    {
     "name": "stdout",
     "output_type": "stream",
     "text": [
      "{'var_smoothing': 0.01519911082952933}\n"
     ]
    }
   ],
   "source": [
    "print(best_params_all['GNB'])"
   ]
  },
  {
   "cell_type": "code",
   "execution_count": 106,
   "metadata": {},
   "outputs": [],
   "source": [
    "gnb_scores = np.zeros((num_runs,3))\n",
    "gnb_precision_recall_fscore = np.zeros((num_runs,3,4))\n",
    "for i in range(num_runs):\n",
    "    X_train, X_test, y_train, y_test = train_test_split(X, y, test_size = 0.25, stratify=y)\n",
    "    for num, i_key in enumerate(keys):\n",
    "        gnb = GaussianNB(**best_params_all['GNB'])\n",
    "        gnb.fit(scaler_dic[num].transform(X_train[i_key]),y_train)\n",
    "        y_hat = gnb.predict(scaler_dic[num].transform(X_test[i_key]))\n",
    "        gnb_scores[i,num] = (accuracy_score(y_test, y_hat))\n",
    "        gnb_precision_recall_fscore[i,num,:] = precision_recall_fscore_support(y_test,y_hat,average='weighted')"
   ]
  },
  {
   "cell_type": "code",
   "execution_count": 107,
   "metadata": {},
   "outputs": [
    {
     "name": "stdout",
     "output_type": "stream",
     "text": [
      "Shapiro-Wilk test results:\n",
      "Feature Set 1 p-value: 0.6058889627456665\n",
      "Feature Set 2 p-value: 0.9886970520019531\n",
      "Feature Set 3 p-value: 0.49781668186187744\n",
      "The data follows a normal distribution. Performing repeated measures ANOVA.\n",
      "ANOVA results:\n",
      "      Source  ddof1  ddof2            F         p-unc       ng2       eps\n",
      "0  features      2     38  5729.904962  7.314775e-48  0.994017  0.860398\n",
      "Paired t-test between Feature Set 1 and Feature Set 2: p-value = 3.613465299353466e-24\n",
      "Paired t-test between Feature Set 1 and Feature Set 3: p-value = 1.5475309398659393e-11\n",
      "Paired t-test between Feature Set 2 and Feature Set 3: p-value = 2.1639338663896794e-28\n"
     ]
    }
   ],
   "source": [
    "import numpy as np\n",
    "from scipy import stats\n",
    "import pingouin as pg\n",
    "\n",
    "# Classification accuracy for each feature set\n",
    "feature_set1 = gnb_scores[:, 0]\n",
    "feature_set2 = gnb_scores[:, 1]\n",
    "feature_set3 = gnb_scores[:, 2]\n",
    "\n",
    "# Perform Shapiro-Wilk test for normality\n",
    "_, p_value1 = stats.shapiro(feature_set1)\n",
    "_, p_value2 = stats.shapiro(feature_set2)\n",
    "_, p_value3 = stats.shapiro(feature_set3)\n",
    "\n",
    "print(\"Shapiro-Wilk test results:\")\n",
    "print(\"Feature Set 1 p-value:\", p_value1)\n",
    "print(\"Feature Set 2 p-value:\", p_value2)\n",
    "print(\"Feature Set 3 p-value:\", p_value3)\n",
    "\n",
    "# Check normality assumption\n",
    "if any(p_value < 0.05 for p_value in [p_value1, p_value2, p_value3]):\n",
    "    # Non-normal data: use Friedman test\n",
    "    print(\"The data does not follow a normal distribution. Performing Friedman test.\")\n",
    "    statistic, p_value = stats.friedmanchisquare(feature_set1, feature_set2, feature_set3)\n",
    "    print(f\"Friedman test statistics: {statistic}, p-value: {p_value}\")\n",
    "    if p_value < 0.05:\n",
    "        # Significant result in Friedman test, use Wilcoxon signed-rank test as post-hoc\n",
    "        wilcox_results = []\n",
    "        wilcox_results.append(stats.wilcoxon(feature_set1, feature_set2))\n",
    "        wilcox_results.append(stats.wilcoxon(feature_set1, feature_set3))\n",
    "        wilcox_results.append(stats.wilcoxon(feature_set2, feature_set3))\n",
    "        \n",
    "        # Apply correction for multiple comparisons (e.g., Bonferroni)\n",
    "        alpha = 0.05\n",
    "        adjusted_alpha = alpha / len(wilcox_results)\n",
    "        \n",
    "        for i, (set1, set2) in enumerate([(feature_set1, feature_set2), (feature_set1, feature_set3), (feature_set2, feature_set3)]):\n",
    "            _, adjusted_p = wilcox_results[i]\n",
    "            if adjusted_p < adjusted_alpha:\n",
    "                print(f\"Wilcoxon test is significant (statistics: {wilcox_results[0]}, adjusted p-value: {adjusted_p})\")\n",
    "            else:\n",
    "                print(f\"Wilcoxon test is not significant (statistics: {wilcox_results[0]}, adjusted p-value: {adjusted_p})\")\n",
    "\n",
    "    \n",
    "else:\n",
    "    # Normally distributed data: use repeated measures ANOVA\n",
    "    print(\"The data follows a normal distribution. Performing repeated measures ANOVA.\")\n",
    "    \n",
    "    df = pd.DataFrame({\n",
    "        'scores': np.concatenate([feature_set1, feature_set2, feature_set3]),\n",
    "        'features': np.array(['Feature Set 1'] * len(feature_set1) + ['Feature Set 2'] * len(feature_set2) + ['Feature Set 3'] * len(feature_set3)),\n",
    "        'subjects': np.concatenate([np.arange(len(feature_set1)) for _ in range(3)])\n",
    "    })\n",
    "    \n",
    "    aov = pg.rm_anova(dv='scores', within='features', subject='subjects', data=df)\n",
    "    p_value = aov.at[0, 'p-unc']\n",
    "    \n",
    "    print(\"ANOVA results:\\n\", aov)\n",
    "    \n",
    "    if p_value < 0.05:\n",
    "        # Significant result in ANOVA, use paired t-tests with Bonferroni correction\n",
    "        pairs = [('Feature Set 1', 'Feature Set 2'), ('Feature Set 1', 'Feature Set 3'), ('Feature Set 2', 'Feature Set 3')]\n",
    "        for p1, p2 in pairs:\n",
    "            _, p_val = stats.ttest_rel(df[df['features'] == p1]['scores'], df[df['features'] == p2]['scores'])\n",
    "            \n",
    "            # Applying Bonferroni correction\n",
    "            corrected_p = p_val * 3\n",
    "            print(f\"Paired t-test between {p1} and {p2}: p-value = {corrected_p}\")\n"
   ]
  },
  {
   "cell_type": "code",
   "execution_count": 108,
   "metadata": {},
   "outputs": [],
   "source": [
    "# print(wilcox_results[0])\n",
    "# print(wilcox_results[1])\n",
    "# print(wilcox_results[2])"
   ]
  },
  {
   "cell_type": "code",
   "execution_count": 109,
   "metadata": {},
   "outputs": [],
   "source": [
    "gnb_mean = np.mean(gnb_scores, axis = 0)*100\n",
    "gnb_std = np.std(gnb_scores, axis = 0)*100"
   ]
  },
  {
   "cell_type": "code",
   "execution_count": 110,
   "metadata": {},
   "outputs": [],
   "source": [
    "from sklearn.svm import SVC"
   ]
  },
  {
   "cell_type": "code",
   "execution_count": 111,
   "metadata": {},
   "outputs": [],
   "source": [
    "svm_scores = np.zeros((num_runs,3))\n",
    "svm_precision_recall_fscore = np.zeros((num_runs,3,4))\n",
    "for i in range(num_runs):\n",
    "    X_train, X_test, y_train, y_test = train_test_split(X, y, test_size = 0.25, stratify=y)\n",
    "    for num, i_key in enumerate(keys):\n",
    "        svm = SVC(**best_params_all['SVM'])\n",
    "        svm.fit(scaler_dic[num].transform(X_train[i_key]),y_train)\n",
    "        y_hat = svm.predict(scaler_dic[num].transform(X_test[i_key]))\n",
    "        svm_scores[i,num] = accuracy_score(y_test, y_hat)\n",
    "        svm_precision_recall_fscore[i,num,:] = precision_recall_fscore_support(y_test,y_hat,average='weighted')"
   ]
  },
  {
   "cell_type": "code",
   "execution_count": 112,
   "metadata": {},
   "outputs": [
    {
     "name": "stdout",
     "output_type": "stream",
     "text": [
      "Shapiro-Wilk test results:\n",
      "Feature Set 1 p-value: 0.3657345175743103\n",
      "Feature Set 2 p-value: 0.3087085783481598\n",
      "Feature Set 3 p-value: 0.2661595344543457\n",
      "The data follows a normal distribution. Performing repeated measures ANOVA.\n",
      "ANOVA results:\n",
      "      Source  ddof1  ddof2            F         p-unc       ng2       eps\n",
      "0  features      2     38  3995.133004  6.730929e-45  0.989591  0.997196\n",
      "Paired t-test between Feature Set 1 and Feature Set 2: p-value = 2.6706937437331006e-24\n",
      "Paired t-test between Feature Set 1 and Feature Set 3: p-value = 0.0006623305006978226\n",
      "Paired t-test between Feature Set 2 and Feature Set 3: p-value = 5.46300873096237e-25\n"
     ]
    }
   ],
   "source": [
    "import numpy as np\n",
    "from scipy import stats\n",
    "import pingouin as pg\n",
    "\n",
    "# Classification accuracy for each feature set\n",
    "feature_set1 = svm_scores[:, 0]\n",
    "feature_set2 = svm_scores[:, 1]\n",
    "feature_set3 = svm_scores[:, 2]\n",
    "\n",
    "# Perform Shapiro-Wilk test for normality\n",
    "_, p_value1 = stats.shapiro(feature_set1)\n",
    "_, p_value2 = stats.shapiro(feature_set2)\n",
    "_, p_value3 = stats.shapiro(feature_set3)\n",
    "\n",
    "print(\"Shapiro-Wilk test results:\")\n",
    "print(\"Feature Set 1 p-value:\", p_value1)\n",
    "print(\"Feature Set 2 p-value:\", p_value2)\n",
    "print(\"Feature Set 3 p-value:\", p_value3)\n",
    "\n",
    "# Check normality assumption\n",
    "if any(p_value < 0.05 for p_value in [p_value1, p_value2, p_value3]):\n",
    "    # Non-normal data: use Friedman test\n",
    "    print(\"The data does not follow a normal distribution. Performing Friedman test.\")\n",
    "    statistic, p_value = stats.friedmanchisquare(feature_set1, feature_set2, feature_set3)\n",
    "    \n",
    "    if p_value < 0.05:\n",
    "        # Significant result in Friedman test, use Wilcoxon signed-rank test as post-hoc\n",
    "        wilcox_results = []\n",
    "        wilcox_results.append(stats.wilcoxon(feature_set1, feature_set2))\n",
    "        wilcox_results.append(stats.wilcoxon(feature_set1, feature_set3))\n",
    "        wilcox_results.append(stats.wilcoxon(feature_set2, feature_set3))\n",
    "        \n",
    "        # Apply correction for multiple comparisons (e.g., Bonferroni)\n",
    "        alpha = 0.05\n",
    "        adjusted_alpha = alpha / len(wilcox_results)\n",
    "        \n",
    "        for i, (set1, set2) in enumerate([(feature_set1, feature_set2), (feature_set1, feature_set3), (feature_set2, feature_set3)]):\n",
    "            _, adjusted_p = wilcox_results[i]\n",
    "            if adjusted_p < adjusted_alpha:\n",
    "                print(f\"Wilcoxon test between Feature Set {i + 1} and Feature Set {i + 2} is significant (adjusted p-value: {adjusted_p})\")\n",
    "            else:\n",
    "                print(f\"Wilcoxon test between Feature Set {i + 1} and Feature Set {i + 2} is not significant (adjusted p-value: {adjusted_p})\")\n",
    "\n",
    "    \n",
    "else:\n",
    "    # Normally distributed data: use repeated measures ANOVA\n",
    "    print(\"The data follows a normal distribution. Performing repeated measures ANOVA.\")\n",
    "    \n",
    "    df = pd.DataFrame({\n",
    "        'scores': np.concatenate([feature_set1, feature_set2, feature_set3]),\n",
    "        'features': np.array(['Feature Set 1'] * len(feature_set1) + ['Feature Set 2'] * len(feature_set2) + ['Feature Set 3'] * len(feature_set3)),\n",
    "        'subjects': np.concatenate([np.arange(len(feature_set1)) for _ in range(3)])\n",
    "    })\n",
    "    \n",
    "    aov = pg.rm_anova(dv='scores', within='features', subject='subjects', data=df)\n",
    "    p_value = aov.at[0, 'p-unc']\n",
    "    \n",
    "    print(\"ANOVA results:\\n\", aov)\n",
    "    \n",
    "    if p_value < 0.05:\n",
    "        # Significant result in ANOVA, use paired t-tests with Bonferroni correction\n",
    "        pairs = [('Feature Set 1', 'Feature Set 2'), ('Feature Set 1', 'Feature Set 3'), ('Feature Set 2', 'Feature Set 3')]\n",
    "        for p1, p2 in pairs:\n",
    "            _, p_val = stats.ttest_rel(df[df['features'] == p1]['scores'], df[df['features'] == p2]['scores'])\n",
    "            \n",
    "            # Applying Bonferroni correction\n",
    "            corrected_p = p_val * 3\n",
    "            print(f\"Paired t-test between {p1} and {p2}: p-value = {corrected_p}\")\n"
   ]
  },
  {
   "cell_type": "code",
   "execution_count": 113,
   "metadata": {},
   "outputs": [],
   "source": [
    "svm_mean = np.mean(svm_scores, axis = 0)*100\n",
    "svm_std = np.std(svm_scores, axis = 0)*100"
   ]
  },
  {
   "cell_type": "code",
   "execution_count": 114,
   "metadata": {},
   "outputs": [],
   "source": [
    "labels = ['RF', 'SVM', 'GNB', 'LDA']"
   ]
  },
  {
   "cell_type": "code",
   "execution_count": 115,
   "metadata": {},
   "outputs": [],
   "source": [
    "# x_pos = np.arange(len(labels))\n",
    "# fig, ax = plt.subplots(figsize=(12, 10))\n",
    "# ax.bar(x_pos, alg_means,\n",
    "#        yerr=alg_stds,\n",
    "#        align='center',\n",
    "#        capsize=30,\n",
    "#        color= '#660000')\n",
    "# ax.set_ylabel('Accuracy of classification [%]', fontsize = 18)\n",
    "# ax.yaxis.grid(True, linestyle='--', color = 'black')\n",
    "# ax.set_xticks(x_pos)\n",
    "# ax.set_xticklabels(labels, fontsize = 16)\n",
    "# ax.set_title('Comparative analysis of model accuracy for biometic identification', fontsize = 18)\n",
    "# ax.yaxis.grid(True)"
   ]
  },
  {
   "cell_type": "code",
   "execution_count": 116,
   "metadata": {},
   "outputs": [
    {
     "data": {
      "image/png": "[encoded data removed]",
      "text/plain": [
       "<Figure size 864x576 with 1 Axes>"
      ]
     },
     "metadata": {
      "needs_background": "light"
     },
     "output_type": "display_data"
    }
   ],
   "source": [
    "ecg_mean = [rforest_mean[0], svm_mean[0], gnb_mean[0], lda_mean[0]]\n",
    "icg_mean = [rforest_mean[1], svm_mean[1], gnb_mean[1], lda_mean[1]]\n",
    "all_mean = [rforest_mean[2], svm_mean[2], gnb_mean[2], lda_mean[2]]\n",
    "\n",
    "ecg_std = [rforest_std[0], svm_std[0], gnb_std[0], lda_std[0]]\n",
    "icg_std = [rforest_std[1], svm_std[1], gnb_std[1], lda_std[1]]\n",
    "all_std = [rforest_std[2], svm_std[2], gnb_std[2], lda_std[2]]\n",
    "\n",
    "plt.rcParams.update({'font.size': 22})\n",
    "\n",
    "n = 4\n",
    "r = np.arange(n)\n",
    "height = 0.25\n",
    "\n",
    "plt.figure(figsize=(12, 8))\n",
    "plt.barh(r+ 2 * height, ecg_mean, color='#00CCCC',\n",
    "         xerr=ecg_std, capsize=10,\n",
    "         height=height, edgecolor='black',\n",
    "         label='ECG')\n",
    "plt.barh(r + height, icg_mean, color='#800020',\n",
    "         xerr=icg_std, capsize=10,\n",
    "         height=height, edgecolor='black',\n",
    "         label='ICG')\n",
    "plt.barh(r , all_mean, color='#E0E0E0',\n",
    "         xerr=all_std, capsize=10,\n",
    "         height=height, edgecolor='black',\n",
    "         label='ECG + ICG')\n",
    "\n",
    "plt.grid(axis='x', linestyle='--', color='black')\n",
    "plt.yticks(r + height/2, labels)\n",
    "plt.legend(loc='lower left')\n",
    "plt.xlabel('Classification accuracy [%]')\n",
    "plt.ylabel('Classifer type')\n",
    "plt.title('Comparative analysis of classifiers by feature set')\n",
    "plt.xlim((0,120))\n",
    "\n",
    "for i, v in enumerate(all_mean):\n",
    "    plt.text(v + ecg_std[i] + 1, i, f'{v:.1f} ± {ecg_std[i]:.1f}', color='black', va='center')\n",
    "\n",
    "for i, v in enumerate(icg_mean):\n",
    "    plt.text(v + icg_std[i] + 1, i + height, f'{v:.1f} ± {icg_std[i]:.1f}', color='black', va='center')\n",
    "\n",
    "for i, v in enumerate(ecg_mean):\n",
    "    plt.text(v + all_std[i] + 1, i + 2 * height, f'{v:.1f} ± {all_std[i]:.1f}', color='black', va='center')"
   ]
  },
  {
   "cell_type": "code",
   "execution_count": 117,
   "metadata": {},
   "outputs": [
    {
     "name": "stdout",
     "output_type": "stream",
     "text": [
      "[[90.38 61.45 95.27]\n",
      " [88.46 61.2  93.21]\n",
      " [87.88 58.14 93.05]\n",
      " [  nan   nan   nan]]\n",
      "==============================\n",
      "[[1.22 1.83 0.74]\n",
      " [1.24 0.9  1.11]\n",
      " [1.24 1.17 1.09]\n",
      " [ nan  nan  nan]]\n"
     ]
    }
   ],
   "source": [
    "print(np.round(np.mean(gnb_precision_recall_fscore,axis=0)*100,2).T)\n",
    "print('='*30)\n",
    "print(np.round(np.std(gnb_precision_recall_fscore,axis=0)*100,2).T)"
   ]
  },
  {
   "cell_type": "code",
   "execution_count": 119,
   "metadata": {},
   "outputs": [
    {
     "name": "stdout",
     "output_type": "stream",
     "text": [
      "95.55 ± 0.77 | 70.53 ± 1.67 | 97.84 ± 0.43\n",
      "94.37 ± 0.95 | 69.13 ± 0.95 | 97.16 ± 0.51\n",
      "94.08 ± 1.0 | 66.95 ± 1.2 | 97.03 ± 0.53\n",
      "nan ± nan | nan ± nan | nan ± nan\n"
     ]
    }
   ],
   "source": [
    "mean_values = np.round(np.mean(rforest_precision_recall_fscore, axis=0)*100, 2).T\n",
    "std_values = np.round(np.std(rforest_precision_recall_fscore, axis=0)*100, 2).T\n",
    "for row_mean, row_std in zip(mean_values, std_values):\n",
    "    formatted_row = [f\"{m} ± {s}\" for m, s in zip(row_mean, row_std)]\n",
    "    print(' | '.join(formatted_row))"
   ]
  },
  {
   "cell_type": "code",
   "execution_count": null,
   "metadata": {},
   "outputs": [],
   "source": []
  }
 ],
 "metadata": {
  "kernelspec": {
   "display_name": "Python 3.9.13",
   "language": "python",
   "name": "python3"
  },
  "language_info": {
   "codemirror_mode": {
    "name": "ipython",
    "version": 3
   },
   "file_extension": ".py",
   "mimetype": "text/x-python",
   "name": "python",
   "nbconvert_exporter": "python",
   "pygments_lexer": "ipython3",
   "version": "3.9.13"
  },
  "orig_nbformat": 4,
  "vscode": {
   "interpreter": {
    "hash": "876da98b88dee332abb6bb97a964d7f091d3f87ca2c4f579beec3e6c50c0fe99"
   }
  }
 },
 "nbformat": 4,
 "nbformat_minor": 2
}

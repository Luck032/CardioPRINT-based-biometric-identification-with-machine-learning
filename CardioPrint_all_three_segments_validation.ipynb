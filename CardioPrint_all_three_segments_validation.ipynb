{
 "cells": [
  {
   "cell_type": "code",
   "execution_count": 1,
   "metadata": {},
   "outputs": [],
   "source": [
    "# Obucavanje se vrsi na sva tri (dva) segmenta, u zavisnosi od nacina snimanja\n",
    "# Tesiranje alogritma se vrsi koriscenjem Stratified K fold cross validation\n",
    "# Testirani modeli su: RF, SVM, GNB, KNN, LDA, QDA"
   ]
  },
  {
   "cell_type": "code",
   "execution_count": 2,
   "metadata": {},
   "outputs": [],
   "source": [
    "import numpy as np\n",
    "import pandas as pd\n",
    "import matplotlib.pyplot as plt\n",
    "import sklearn"
   ]
  },
  {
   "cell_type": "code",
   "execution_count": 3,
   "metadata": {},
   "outputs": [],
   "source": [
    "from sklearn.model_selection import GridSearchCV, StratifiedKFold, cross_val_score\n",
    "from sklearn.preprocessing import LabelEncoder"
   ]
  },
  {
   "cell_type": "code",
   "execution_count": 4,
   "metadata": {},
   "outputs": [],
   "source": [
    "from sklearn.metrics import classification_report"
   ]
  },
  {
   "cell_type": "code",
   "execution_count": 5,
   "metadata": {},
   "outputs": [],
   "source": [
    "import pickle"
   ]
  },
  {
   "cell_type": "code",
   "execution_count": 6,
   "metadata": {},
   "outputs": [],
   "source": [
    "import warnings\n",
    "warnings.filterwarnings('ignore')"
   ]
  },
  {
   "cell_type": "code",
   "execution_count": 7,
   "metadata": {},
   "outputs": [],
   "source": [
    "%matplotlib inline"
   ]
  },
  {
   "cell_type": "code",
   "execution_count": 8,
   "metadata": {},
   "outputs": [],
   "source": [
    "dat_12_samples = pd.read_csv('/Features.csv',sep=',')\n",
    "dat_8_samples = pd.read_csv('/Features_without_neutral.csv',sep=',')"
   ]
  },
  {
   "cell_type": "code",
   "execution_count": 9,
   "metadata": {},
   "outputs": [],
   "source": [
    "temp = dat_12_samples.iloc[0,0]"
   ]
  },
  {
   "cell_type": "code",
   "execution_count": 10,
   "metadata": {},
   "outputs": [],
   "source": [
    "for i in range(len(dat_12_samples)):\n",
    "    temp = dat_12_samples.iloc[i,0]\n",
    "    dat_12_samples.iloc[i,0] = temp[:-4]"
   ]
  },
  {
   "cell_type": "code",
   "execution_count": 11,
   "metadata": {},
   "outputs": [],
   "source": [
    "for i in range(len(dat_8_samples)):\n",
    "    temp = dat_8_samples.iloc[i,0]\n",
    "    dat_8_samples.iloc[i,0] = temp[:-4]"
   ]
  },
  {
   "cell_type": "code",
   "execution_count": 12,
   "metadata": {},
   "outputs": [],
   "source": [
    "temp1 = dat_12_samples['examinee'].value_counts()\n",
    "temp2 = dat_8_samples['examinee'].value_counts()"
   ]
  },
  {
   "cell_type": "code",
   "execution_count": 13,
   "metadata": {},
   "outputs": [],
   "source": [
    "dat = pd.concat([dat_12_samples,dat_8_samples])"
   ]
  },
  {
   "cell_type": "code",
   "execution_count": 14,
   "metadata": {},
   "outputs": [],
   "source": [
    "from sklearn.preprocessing import StandardScaler"
   ]
  },
  {
   "cell_type": "code",
   "execution_count": 15,
   "metadata": {},
   "outputs": [],
   "source": [
    "scaler = StandardScaler()"
   ]
  },
  {
   "cell_type": "code",
   "execution_count": 16,
   "metadata": {},
   "outputs": [],
   "source": [
    "# with open('subject_ID.pkl', 'rb') as f:\n",
    "#     le = pickle.load(f)"
   ]
  },
  {
   "cell_type": "code",
   "execution_count": 17,
   "metadata": {},
   "outputs": [],
   "source": [
    "# subject_id = pd.DataFrame({'Subject': le.classes_, 'ID': range(len(le.classes_))}).to_excel('subject_ID.xlsx')"
   ]
  },
  {
   "cell_type": "code",
   "execution_count": 18,
   "metadata": {},
   "outputs": [],
   "source": [
    "X = dat.drop('examinee',axis=1)\n",
    "y = dat['examinee']"
   ]
  },
  {
   "cell_type": "code",
   "execution_count": 19,
   "metadata": {},
   "outputs": [],
   "source": [
    "# with open('subject_ID.pkl', 'rb') as f:\n",
    "#     le = pickle.load(f)\n",
    "    \n",
    "# y = le.transform(dat['examinee'])"
   ]
  },
  {
   "cell_type": "code",
   "execution_count": 20,
   "metadata": {},
   "outputs": [],
   "source": [
    "le = LabelEncoder()\n",
    "\n",
    "y = le.fit_transform(y)"
   ]
  },
  {
   "cell_type": "code",
   "execution_count": 21,
   "metadata": {},
   "outputs": [
    {
     "name": "stdout",
     "output_type": "stream",
     "text": [
      "ID0000: 0\n",
      "ID0001: 1\n",
      "ID0002: 2\n",
      "ID0003: 3\n",
      "ID0004: 4\n",
      "ID0005: 5\n",
      "ID0006: 6\n",
      "ID0007: 7\n",
      "ID0008: 8\n",
      "ID0009: 9\n",
      "ID0010: 10\n",
      "ID0011: 11\n",
      "ID0012: 12\n",
      "ID0013: 13\n",
      "ID0014: 14\n",
      "ID0015: 15\n",
      "ID0016: 16\n",
      "ID0017: 17\n",
      "ID0018: 18\n",
      "ID0019: 19\n",
      "ID0020: 20\n",
      "ID0021: 21\n",
      "ID0022: 22\n",
      "ID0023: 23\n",
      "ID0024: 24\n",
      "ID0025: 25\n",
      "ID0026: 26\n",
      "ID0027: 27\n",
      "ID0028: 28\n",
      "ID0029: 29\n",
      "ID0030: 30\n",
      "ID0031: 31\n",
      "ID0032: 32\n",
      "ID0033: 33\n",
      "ID0034: 34\n",
      "ID0035: 35\n",
      "ID0036: 36\n",
      "ID0037: 37\n",
      "ID0038: 38\n",
      "ID0039: 39\n",
      "ID0040: 40\n",
      "ID0041: 41\n",
      "ID0042: 42\n",
      "ID0043: 43\n",
      "ID0044: 44\n",
      "ID0045: 45\n",
      "ID0046: 46\n",
      "ID0047: 47\n",
      "ID0048: 48\n",
      "ID0049: 49\n",
      "ID0050: 50\n",
      "ID0051: 51\n",
      "ID0052: 52\n",
      "ID0053: 53\n",
      "ID0054: 54\n",
      "ID0055: 55\n",
      "ID0056: 56\n",
      "ID0057: 57\n",
      "ID0058: 58\n",
      "ID0059: 59\n",
      "ID0060: 60\n",
      "ID0061: 61\n",
      "ID0062: 62\n",
      "ID0063: 63\n",
      "ID0064: 64\n",
      "ID0065: 65\n",
      "ID0066: 66\n",
      "ID0067: 67\n",
      "ID0068: 68\n",
      "ID0069: 69\n",
      "ID0070: 70\n",
      "ID0071: 71\n",
      "ID0072: 72\n",
      "ID0073: 73\n",
      "ID0074: 74\n",
      "ID0075: 75\n",
      "ID0076: 76\n",
      "ID0077: 77\n",
      "ID0078: 78\n",
      "ID0079: 79\n",
      "ID0080: 80\n",
      "ID0081: 81\n",
      "ID0082: 82\n",
      "ID0083: 83\n",
      "ID0084: 84\n",
      "ID0085: 85\n",
      "ID0086: 86\n",
      "ID0087: 87\n",
      "ID0088: 88\n",
      "ID0089: 89\n",
      "ID0090: 90\n",
      "ID0091: 91\n",
      "ID0092: 92\n",
      "ID0093: 93\n",
      "ID0094: 94\n",
      "ID0095: 95\n",
      "ID0096: 96\n",
      "ID0097: 97\n",
      "ID0098: 98\n",
      "ID0099: 99\n",
      "ID0100: 100\n",
      "ID0101: 101\n",
      "ID0102: 102\n",
      "ID0103: 103\n",
      "ID0104: 104\n",
      "ID0105: 105\n",
      "ID0106: 106\n",
      "ID0107: 107\n",
      "ID0108: 108\n",
      "ID0109: 109\n",
      "ID0110: 110\n",
      "ID0111: 111\n",
      "ID0112: 112\n",
      "ID0113: 113\n",
      "ID0114: 114\n",
      "ID0116: 115\n",
      "ID0117: 116\n",
      "ID0118: 117\n",
      "ID0119: 118\n",
      "ID0120: 119\n",
      "ID0121: 120\n",
      "ID0122: 121\n",
      "ID0123: 122\n",
      "ID0124: 123\n",
      "ID0125: 124\n",
      "ID0126: 125\n",
      "ID0127: 126\n",
      "ID0128: 127\n",
      "ID0129: 128\n",
      "ID0130: 129\n",
      "ID0131: 130\n",
      "ID0132: 131\n",
      "ID0133: 132\n",
      "ID0134: 133\n",
      "ID0135: 134\n",
      "ID0136: 135\n",
      "ID0137: 136\n",
      "ID0138: 137\n",
      "ID0139: 138\n",
      "ID0140: 139\n",
      "ID0141: 140\n",
      "ID0142: 141\n",
      "ID0143: 142\n",
      "ID0144: 143\n",
      "ID0145: 144\n",
      "ID0146: 145\n",
      "ID0147: 146\n",
      "ID0148: 147\n",
      "ID0149: 148\n",
      "ID0150: 149\n",
      "ID0151: 150\n",
      "ID0152: 151\n",
      "ID0153: 152\n",
      "ID0154: 153\n",
      "ID0155: 154\n",
      "ID0156: 155\n",
      "ID0157: 156\n",
      "ID0158: 157\n",
      "ID0159: 158\n",
      "ID0160: 159\n",
      "ID0161: 160\n",
      "ID0162: 161\n",
      "ID0163: 162\n",
      "ID0164: 163\n",
      "ID0165: 164\n",
      "ID0166: 165\n",
      "ID0167: 166\n",
      "ID0168: 167\n",
      "ID0169: 168\n",
      "ID0170: 169\n",
      "ID0171: 170\n",
      "ID0172: 171\n",
      "ID0173: 172\n",
      "ID0174: 173\n",
      "ID0175: 174\n",
      "ID0176: 175\n",
      "ID0177: 176\n",
      "ID0178: 177\n",
      "ID0179: 178\n",
      "ID0180: 179\n",
      "ID0181: 180\n",
      "ID0182: 181\n",
      "ID0183: 182\n",
      "ID0184: 183\n",
      "ID0185: 184\n",
      "ID0186: 185\n",
      "ID0187: 186\n",
      "ID0188: 187\n",
      "ID0189: 188\n",
      "ID0190: 189\n",
      "ID0191: 190\n",
      "ID0192: 191\n",
      "ID0193: 192\n",
      "ID0194: 193\n",
      "ID0195: 194\n",
      "ID0196: 195\n",
      "ID0197: 196\n",
      "ID0198: 197\n",
      "ID0199: 198\n",
      "ID0200: 199\n",
      "ID0201: 200\n",
      "ID0202: 201\n"
     ]
    }
   ],
   "source": [
    "for original_class, encoded_value in zip(le.classes_, range(len(le.classes_))):\n",
    "    print(f\"{original_class}: {encoded_value}\")"
   ]
  },
  {
   "cell_type": "code",
   "execution_count": 22,
   "metadata": {},
   "outputs": [],
   "source": [
    "# X_ECG = dat[['QRS_int','T_int','QT_int','RS_amp','RQ_amp','TT1_amp','TT2_amp','ECGcrest','RR']]"
   ]
  },
  {
   "cell_type": "code",
   "execution_count": 23,
   "metadata": {},
   "outputs": [
    {
     "data": {
      "text/plain": [
       "Index(['QRS_int', 'T_int', 'QT_int', 'RC_int', 'RC_int2', 'BX_int', 'BX_int2',\n",
       "       'RS_amp', 'RQ_amp', 'TT1_amp', 'TT2_amp', 'CB_amp', 'CX_amp',\n",
       "       'ECGTcrest', 'ICGcrest', 'RR', 'CC'],\n",
       "      dtype='object')"
      ]
     },
     "execution_count": 23,
     "metadata": {},
     "output_type": "execute_result"
    }
   ],
   "source": [
    "X.columns"
   ]
  },
  {
   "cell_type": "code",
   "execution_count": 24,
   "metadata": {},
   "outputs": [],
   "source": [
    "X_ECG = dat[['QRS_int','T_int','QT_int','RS_amp','RQ_amp','ECGTcrest','TT1_amp','TT2_amp','RR']]"
   ]
  },
  {
   "cell_type": "code",
   "execution_count": 25,
   "metadata": {},
   "outputs": [],
   "source": [
    "# X_ICG = dat.drop(['QRS_int','T_int','QT_int','RS_amp','RQ_amp','TT1_amp','TT2_amp','ECGcrest','RR','examinee'],axis = 1)"
   ]
  },
  {
   "cell_type": "code",
   "execution_count": 26,
   "metadata": {},
   "outputs": [],
   "source": [
    "X_ICG = dat[['RC_int','RC_int2','BX_int','BX_int2','CB_amp','CX_amp','ICGcrest','CC']]"
   ]
  },
  {
   "cell_type": "code",
   "execution_count": 27,
   "metadata": {},
   "outputs": [
    {
     "data": {
      "text/plain": [
       "Index(['QRS_int', 'T_int', 'QT_int', 'RC_int', 'RC_int2', 'BX_int', 'BX_int2',\n",
       "       'RS_amp', 'RQ_amp', 'TT1_amp', 'TT2_amp', 'CB_amp', 'CX_amp',\n",
       "       'ECGTcrest', 'ICGcrest', 'RR', 'CC'],\n",
       "      dtype='object')"
      ]
     },
     "execution_count": 27,
     "metadata": {},
     "output_type": "execute_result"
    }
   ],
   "source": [
    "X.columns"
   ]
  },
  {
   "cell_type": "code",
   "execution_count": 28,
   "metadata": {},
   "outputs": [
    {
     "data": {
      "text/plain": [
       "Index(['QRS_int', 'T_int', 'QT_int', 'RS_amp', 'RQ_amp', 'ECGTcrest',\n",
       "       'TT1_amp', 'TT2_amp', 'RR'],\n",
       "      dtype='object')"
      ]
     },
     "execution_count": 28,
     "metadata": {},
     "output_type": "execute_result"
    }
   ],
   "source": [
    "X_ECG.columns"
   ]
  },
  {
   "cell_type": "code",
   "execution_count": 29,
   "metadata": {},
   "outputs": [
    {
     "data": {
      "text/plain": [
       "Index(['RC_int', 'RC_int2', 'BX_int', 'BX_int2', 'CB_amp', 'CX_amp',\n",
       "       'ICGcrest', 'CC'],\n",
       "      dtype='object')"
      ]
     },
     "execution_count": 29,
     "metadata": {},
     "output_type": "execute_result"
    }
   ],
   "source": [
    "X_ICG.columns"
   ]
  },
  {
   "cell_type": "code",
   "execution_count": 30,
   "metadata": {},
   "outputs": [],
   "source": [
    "values, counts = np.unique(y,return_counts=True)"
   ]
  },
  {
   "cell_type": "code",
   "execution_count": 31,
   "metadata": {},
   "outputs": [],
   "source": [
    "skf = StratifiedKFold(n_splits=4, shuffle=True) "
   ]
  },
  {
   "cell_type": "code",
   "execution_count": 32,
   "metadata": {},
   "outputs": [],
   "source": [
    "X = X"
   ]
  },
  {
   "cell_type": "code",
   "execution_count": 33,
   "metadata": {},
   "outputs": [],
   "source": [
    "num_runs = 20"
   ]
  },
  {
   "cell_type": "code",
   "execution_count": 34,
   "metadata": {},
   "outputs": [],
   "source": [
    "hyperparam_grid = {\n",
    "    \"n_estimators\": [100, 200, 300, 400, 500],\n",
    "    \"criterion\": ['gini', 'entropy', 'log_loss'],\n",
    "    \"max_features\": ['sqrt', 'log2'],\n",
    "    \"max_depth\": np.arange(5, 15),\n",
    "}"
   ]
  },
  {
   "cell_type": "code",
   "execution_count": 35,
   "metadata": {},
   "outputs": [],
   "source": [
    "from sklearn.ensemble import RandomForestClassifier"
   ]
  },
  {
   "cell_type": "code",
   "execution_count": 36,
   "metadata": {},
   "outputs": [],
   "source": [
    "rforest_scores = np.zeros((num_runs,4))\n",
    "rforest = RandomForestClassifier(n_jobs=-1)\n",
    "grid = GridSearchCV(estimator=rforest, param_grid=hyperparam_grid, cv=skf, n_jobs=-1)\n",
    "grid.fit(X,y)\n",
    "rforest_best_params = grid.best_params_"
   ]
  },
  {
   "cell_type": "code",
   "execution_count": 37,
   "metadata": {},
   "outputs": [],
   "source": [
    "for i in range(num_runs):\n",
    "    rforest = RandomForestClassifier(n_jobs=-1, **rforest_best_params)\n",
    "    cv_scores = cross_val_score(rforest, X, y, cv=skf)\n",
    "    rforest_scores[i,:] = cv_scores\n",
    "rforest_scores = np.mean(rforest_scores,axis = 1)"
   ]
  },
  {
   "cell_type": "code",
   "execution_count": 38,
   "metadata": {},
   "outputs": [
    {
     "name": "stdout",
     "output_type": "stream",
     "text": [
      "{'criterion': 'entropy', 'max_depth': 10, 'max_features': 'sqrt', 'n_estimators': 500}\n"
     ]
    }
   ],
   "source": [
    "print(rforest_best_params)"
   ]
  },
  {
   "cell_type": "code",
   "execution_count": 39,
   "metadata": {},
   "outputs": [
    {
     "name": "stdout",
     "output_type": "stream",
     "text": [
      "0.970384 (0.001314)\n"
     ]
    }
   ],
   "source": [
    "rforest_mean = np.mean(rforest_scores)\n",
    "rforest_std = np.std(rforest_scores)\n",
    "print('%f (%f)' % (rforest_mean,rforest_std))"
   ]
  },
  {
   "cell_type": "code",
   "execution_count": 40,
   "metadata": {},
   "outputs": [],
   "source": [
    "from sklearn.svm import SVC"
   ]
  },
  {
   "cell_type": "code",
   "execution_count": 41,
   "metadata": {},
   "outputs": [],
   "source": [
    "hyperparam_grid = {\n",
    "    'C': [0.1, 1, 10, 100],\n",
    "    'gamma': [10, 1, 0.1, 0.01, 0.001,0.0001],\n",
    "    'kernel': ['linear', 'poly', 'rbf', 'sigmoid'],\n",
    "    'shrinking': [True, False],\n",
    "}"
   ]
  },
  {
   "cell_type": "code",
   "execution_count": 42,
   "metadata": {},
   "outputs": [],
   "source": [
    "svm_scores = np.zeros((num_runs,4))\n",
    "svm = SVC()\n",
    "grid = GridSearchCV(estimator=svm, param_grid=hyperparam_grid, cv=skf)\n",
    "grid.fit(scaler.fit_transform(X),y)\n",
    "svm_best_params = grid.best_params_"
   ]
  },
  {
   "cell_type": "code",
   "execution_count": 43,
   "metadata": {},
   "outputs": [
    {
     "name": "stdout",
     "output_type": "stream",
     "text": [
      "{'C': 100, 'gamma': 0.01, 'kernel': 'rbf', 'shrinking': True}\n"
     ]
    }
   ],
   "source": [
    "print(svm_best_params)"
   ]
  },
  {
   "cell_type": "code",
   "execution_count": 44,
   "metadata": {},
   "outputs": [],
   "source": [
    "for i in range(num_runs):\n",
    "    svm = SVC(**svm_best_params)\n",
    "    cv_scores = cross_val_score(svm, scaler.transform(X), y, cv=skf)\n",
    "    svm_scores[i,:] = cv_scores\n",
    "svm_scores = np.mean(svm_scores,axis = 1)"
   ]
  },
  {
   "cell_type": "code",
   "execution_count": 45,
   "metadata": {},
   "outputs": [
    {
     "name": "stdout",
     "output_type": "stream",
     "text": [
      "0.931650 (0.003198)\n"
     ]
    }
   ],
   "source": [
    "svm_mean = np.mean(svm_scores)\n",
    "svm_std = np.std(svm_scores)\n",
    "print('%f (%f)' % (svm_mean,svm_std))"
   ]
  },
  {
   "cell_type": "code",
   "execution_count": 46,
   "metadata": {},
   "outputs": [],
   "source": [
    "from sklearn.discriminant_analysis import LinearDiscriminantAnalysis"
   ]
  },
  {
   "cell_type": "code",
   "execution_count": 47,
   "metadata": {},
   "outputs": [],
   "source": [
    "hyperparam_grid = {'shrinkage':['auto',0,0.2,0.4,0.6,0.8,1],\n",
    "                   'solver':['svd','lsqr','eigen']\n",
    "                   }"
   ]
  },
  {
   "cell_type": "code",
   "execution_count": 48,
   "metadata": {},
   "outputs": [],
   "source": [
    "lda_scores = np.zeros((num_runs,4))\n",
    "lda = LinearDiscriminantAnalysis()\n",
    "grid = GridSearchCV(estimator=lda, param_grid=hyperparam_grid, cv=skf)\n",
    "grid.fit(scaler.transform(X),y)\n",
    "lda_best_params = grid.best_params_"
   ]
  },
  {
   "cell_type": "code",
   "execution_count": 49,
   "metadata": {},
   "outputs": [
    {
     "name": "stdout",
     "output_type": "stream",
     "text": [
      "{'shrinkage': 0, 'solver': 'lsqr'}\n"
     ]
    }
   ],
   "source": [
    "print(lda_best_params)"
   ]
  },
  {
   "cell_type": "code",
   "execution_count": 50,
   "metadata": {},
   "outputs": [],
   "source": [
    "for i in range(num_runs):\n",
    "    lda = LinearDiscriminantAnalysis(**lda_best_params)\n",
    "    cv_scores = cross_val_score(lda, scaler.transform(X), y, cv=skf)\n",
    "    lda_scores[i,:] = cv_scores\n",
    "lda_scores = np.mean(lda_scores,axis = 1)"
   ]
  },
  {
   "cell_type": "code",
   "execution_count": 51,
   "metadata": {},
   "outputs": [
    {
     "name": "stdout",
     "output_type": "stream",
     "text": [
      "0.955027 (0.001767)\n"
     ]
    }
   ],
   "source": [
    "lda_mean = np.mean(lda_scores)\n",
    "lda_std = np.std(lda_scores)\n",
    "print('%f (%f)' % (lda_mean,lda_std))"
   ]
  },
  {
   "cell_type": "code",
   "execution_count": 52,
   "metadata": {},
   "outputs": [],
   "source": [
    "from sklearn.discriminant_analysis import QuadraticDiscriminantAnalysis"
   ]
  },
  {
   "cell_type": "code",
   "execution_count": 53,
   "metadata": {},
   "outputs": [],
   "source": [
    "hyperparam_grid = [{'reg_param': [0.0, 0.1, 0.2, 0.3, 0.4, 0.5]}]"
   ]
  },
  {
   "cell_type": "code",
   "execution_count": 54,
   "metadata": {},
   "outputs": [],
   "source": [
    "qda_scores = np.zeros((num_runs,4))\n",
    "qda = QuadraticDiscriminantAnalysis()\n",
    "grid = GridSearchCV(estimator=qda, param_grid=hyperparam_grid, cv=skf)\n",
    "grid.fit(scaler.transform(X),y)\n",
    "qda_best_params = grid.best_params_"
   ]
  },
  {
   "cell_type": "code",
   "execution_count": 55,
   "metadata": {},
   "outputs": [
    {
     "name": "stdout",
     "output_type": "stream",
     "text": [
      "{'reg_param': 0.1}\n"
     ]
    }
   ],
   "source": [
    "print(qda_best_params)"
   ]
  },
  {
   "cell_type": "code",
   "execution_count": 56,
   "metadata": {},
   "outputs": [],
   "source": [
    "for i in range(num_runs):\n",
    "    qda = QuadraticDiscriminantAnalysis(**qda_best_params)\n",
    "    cv_scores = cross_val_score(qda, scaler.transform(X), y, cv=skf)\n",
    "    qda_scores[i,:] = cv_scores\n",
    "qda_scores = np.mean(qda_scores,axis = 1)"
   ]
  },
  {
   "cell_type": "code",
   "execution_count": 57,
   "metadata": {},
   "outputs": [
    {
     "name": "stdout",
     "output_type": "stream",
     "text": [
      "0.738323 (0.007359)\n"
     ]
    }
   ],
   "source": [
    "qda_mean = np.mean(qda_scores)\n",
    "qda_std = np.std(qda_scores)\n",
    "print('%f (%f)' % (qda_mean,qda_std))"
   ]
  },
  {
   "cell_type": "code",
   "execution_count": 58,
   "metadata": {},
   "outputs": [],
   "source": [
    "from sklearn.naive_bayes import GaussianNB"
   ]
  },
  {
   "cell_type": "code",
   "execution_count": 59,
   "metadata": {},
   "outputs": [],
   "source": [
    "hyperparam_grid = {\n",
    "    'var_smoothing': np.logspace(0, -12, num=100)\n",
    "    }"
   ]
  },
  {
   "cell_type": "code",
   "execution_count": 60,
   "metadata": {},
   "outputs": [],
   "source": [
    "gnb_scores = np.zeros((num_runs,4))\n",
    "gnb = GaussianNB()\n",
    "grid = GridSearchCV(estimator=gnb, param_grid=hyperparam_grid, cv=skf)\n",
    "grid.fit(scaler.transform(X),y)\n",
    "gnb_best_params = grid.best_params_"
   ]
  },
  {
   "cell_type": "code",
   "execution_count": 61,
   "metadata": {},
   "outputs": [
    {
     "name": "stdout",
     "output_type": "stream",
     "text": [
      "{'var_smoothing': 0.01519911082952933}\n"
     ]
    }
   ],
   "source": [
    "print(gnb_best_params)"
   ]
  },
  {
   "cell_type": "code",
   "execution_count": 62,
   "metadata": {},
   "outputs": [],
   "source": [
    "for i in range(num_runs):\n",
    "    gnb = GaussianNB(**gnb_best_params)\n",
    "    cv_scores = cross_val_score(gnb, scaler.transform(X), y, cv=skf)\n",
    "    gnb_scores[i,:] = cv_scores\n",
    "gnb_scores = np.mean(gnb_scores,axis = 1)"
   ]
  },
  {
   "cell_type": "code",
   "execution_count": 63,
   "metadata": {},
   "outputs": [
    {
     "name": "stdout",
     "output_type": "stream",
     "text": [
      "0.930462 (0.002574)\n"
     ]
    }
   ],
   "source": [
    "gnb_mean = np.mean(gnb_scores)\n",
    "gnb_std = np.std(gnb_scores)\n",
    "print('%f (%f)' % (gnb_mean,gnb_std))"
   ]
  },
  {
   "cell_type": "code",
   "execution_count": 64,
   "metadata": {},
   "outputs": [],
   "source": [
    "from sklearn.neighbors import KNeighborsClassifier"
   ]
  },
  {
   "cell_type": "code",
   "execution_count": 65,
   "metadata": {},
   "outputs": [],
   "source": [
    "hyperparam_grid = {\n",
    "    'n_neighbors': np.arange(1, 8, 1),\n",
    "    'weights': ['uniform', 'distance'],\n",
    "    'algorithm': ['auto', 'ball_tree', 'kd_tree', 'brute'],\n",
    "}"
   ]
  },
  {
   "cell_type": "code",
   "execution_count": 66,
   "metadata": {},
   "outputs": [],
   "source": [
    "knn_scores = np.zeros((num_runs,4))\n",
    "knn = KNeighborsClassifier()\n",
    "grid = GridSearchCV(estimator=knn, param_grid=hyperparam_grid, cv=skf)\n",
    "grid.fit(scaler.transform(X),y)\n",
    "knn_best_params = grid.best_params_"
   ]
  },
  {
   "cell_type": "code",
   "execution_count": 67,
   "metadata": {},
   "outputs": [
    {
     "name": "stdout",
     "output_type": "stream",
     "text": [
      "{'algorithm': 'auto', 'n_neighbors': 1, 'weights': 'uniform'}\n"
     ]
    }
   ],
   "source": [
    "print(knn_best_params)"
   ]
  },
  {
   "cell_type": "code",
   "execution_count": 68,
   "metadata": {},
   "outputs": [],
   "source": [
    "for i in range(num_runs):\n",
    "    gnb = KNeighborsClassifier(**knn_best_params)\n",
    "    cv_scores = cross_val_score(knn, scaler.transform(X), y, cv=skf)\n",
    "    knn_scores[i,:] = cv_scores\n",
    "knn_scores = np.mean(knn_scores,axis = 1)"
   ]
  },
  {
   "cell_type": "code",
   "execution_count": 69,
   "metadata": {},
   "outputs": [
    {
     "name": "stdout",
     "output_type": "stream",
     "text": [
      "0.828245 (0.003720)\n"
     ]
    }
   ],
   "source": [
    "knn_mean = np.mean(knn_scores)\n",
    "knn_std = np.std(knn_scores)\n",
    "print('%f (%f)' % (knn_mean,knn_std))"
   ]
  },
  {
   "cell_type": "code",
   "execution_count": 70,
   "metadata": {},
   "outputs": [],
   "source": [
    "from sklearn.neighbors import NearestCentroid"
   ]
  },
  {
   "cell_type": "code",
   "execution_count": 71,
   "metadata": {},
   "outputs": [],
   "source": [
    "hyperparam_grid = {'shrink_threshold':np.arange(0,1.01,0.01),\n",
    "                   'metric':['euclidean', 'manhattan']}"
   ]
  },
  {
   "cell_type": "code",
   "execution_count": 72,
   "metadata": {},
   "outputs": [],
   "source": [
    "nc_scores = np.zeros((num_runs,4))\n",
    "nc = NearestCentroid()\n",
    "grid = GridSearchCV(estimator=nc, param_grid=hyperparam_grid, cv=skf)\n",
    "grid.fit(scaler.transform(X),y)\n",
    "nc_best_params = grid.best_params_"
   ]
  },
  {
   "cell_type": "code",
   "execution_count": 73,
   "metadata": {},
   "outputs": [
    {
     "name": "stdout",
     "output_type": "stream",
     "text": [
      "{'metric': 'manhattan', 'shrink_threshold': 0.01}\n"
     ]
    }
   ],
   "source": [
    "print(nc_best_params)"
   ]
  },
  {
   "cell_type": "code",
   "execution_count": 74,
   "metadata": {},
   "outputs": [],
   "source": [
    "for i in range(num_runs):\n",
    "    nc = NearestCentroid(**nc_best_params)\n",
    "    cv_scores = cross_val_score(nc, scaler.transform(X), y, cv=skf)\n",
    "    nc_scores[i,:] = cv_scores\n",
    "nc_scores = np.mean(nc_scores,axis = 1)"
   ]
  },
  {
   "cell_type": "code",
   "execution_count": 75,
   "metadata": {},
   "outputs": [
    {
     "name": "stdout",
     "output_type": "stream",
     "text": [
      "0.826508 (0.003409)\n"
     ]
    }
   ],
   "source": [
    "nc_mean = np.mean(nc_scores)\n",
    "nc_std = np.std(nc_scores)\n",
    "print('%f (%f)' % (nc_mean,nc_std))"
   ]
  },
  {
   "cell_type": "code",
   "execution_count": 76,
   "metadata": {},
   "outputs": [
    {
     "data": {
      "image/png": "[encoded data removed]",
      "text/plain": [
       "<Figure size 864x576 with 1 Axes>"
      ]
     },
     "metadata": {
      "needs_background": "light"
     },
     "output_type": "display_data"
    }
   ],
   "source": [
    "labels = ['RF', 'SVM', 'GNB', 'KNN', 'LDA', 'QDA', 'NC']\n",
    "alg_means = np.array([rforest_mean, svm_mean, gnb_mean, knn_mean, lda_mean, qda_mean, nc_mean])*100\n",
    "alg_stds = np.array([rforest_std, svm_std, gnb_std, knn_std, lda_std, qda_std, nc_std])*100\n",
    "\n",
    "# Sort the means and labels in descending order\n",
    "sorted_indices = np.argsort(alg_means)\n",
    "sorted_means = alg_means[sorted_indices]\n",
    "sorted_stds = alg_stds[sorted_indices]\n",
    "sorted_labels = [labels[i] for i in sorted_indices]\n",
    "\n",
    "plt.rcParams.update({'font.size': 18})\n",
    "y_pos = np.arange(len(labels))\n",
    "fig, ax = plt.subplots(figsize=(12, 8))\n",
    "ax.barh(y_pos, sorted_means,\n",
    "        xerr=sorted_stds,\n",
    "        align='center',\n",
    "        height=0.5,\n",
    "        color='#660000')\n",
    "ax.set_xlabel('Accuracy of classification [%]')\n",
    "ax.xaxis.grid(True, linestyle='--', color='black')\n",
    "ax.set_yticks(y_pos)\n",
    "ax.set_yticklabels(sorted_labels)\n",
    "ax.set_title('Comparative analysis of model accuracy for biometric identification')\n",
    "ax.xaxis.grid(True)\n",
    "ax.set_xlim((0,120))\n",
    "\n",
    "for i, v in enumerate(sorted_means):\n",
    "    ax.text(v + 1, i, f\"{round(v, 2)} ± {round(sorted_stds[i], 2)}\", color='black', va='center')\n",
    "    \n",
    "plt.show()"
   ]
  },
  {
   "cell_type": "code",
   "execution_count": 77,
   "metadata": {},
   "outputs": [],
   "source": [
    "best_params_all = {'RF':rforest_best_params,'SVM':svm_best_params,'LDA':lda_best_params,'GNB':gnb_best_params}"
   ]
  },
  {
   "cell_type": "code",
   "execution_count": 78,
   "metadata": {},
   "outputs": [],
   "source": [
    "with open('best_params_all.pkl', 'wb') as f:\n",
    "    pickle.dump(best_params_all, f)"
   ]
  },
  {
   "cell_type": "code",
   "execution_count": null,
   "metadata": {},
   "outputs": [],
   "source": []
  }
 ],
 "metadata": {
  "kernelspec": {
   "display_name": "Python 3",
   "language": "python",
   "name": "python3"
  },
  "language_info": {
   "codemirror_mode": {
    "name": "ipython",
    "version": 3
   },
   "file_extension": ".py",
   "mimetype": "text/x-python",
   "name": "python",
   "nbconvert_exporter": "python",
   "pygments_lexer": "ipython3",
   "version": "3.9.13"
  },
  "orig_nbformat": 4,
  "vscode": {
   "interpreter": {
    "hash": "8a5edab282632443219e051e4ade2d1d5bbc671c781051bf1437897cbdfea0f1"
   }
  }
 },
 "nbformat": 4,
 "nbformat_minor": 2
}

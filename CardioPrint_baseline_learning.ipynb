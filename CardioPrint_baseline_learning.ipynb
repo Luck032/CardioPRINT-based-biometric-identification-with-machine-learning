{
 "cells": [
  {
   "cell_type": "code",
   "execution_count": 1,
   "metadata": {},
   "outputs": [],
   "source": [
    "# Obucavanje se vrsi baseline-u dok se testiranje vrsi na ostalim segmentima\n",
    "# Testirani modeli su: RF, SVM, GNB, LDA"
   ]
  },
  {
   "cell_type": "code",
   "execution_count": 2,
   "metadata": {},
   "outputs": [],
   "source": [
    "import numpy as np\n",
    "import pandas as pd\n",
    "import matplotlib.pyplot as plt\n",
    "import seaborn as sns\n",
    "import sklearn\n",
    "import warnings\n",
    "from scipy import stats"
   ]
  },
  {
   "cell_type": "code",
   "execution_count": 3,
   "metadata": {},
   "outputs": [],
   "source": [
    "warnings.filterwarnings('ignore')"
   ]
  },
  {
   "cell_type": "code",
   "execution_count": 4,
   "metadata": {},
   "outputs": [],
   "source": [
    "from sklearn.model_selection import cross_val_score, StratifiedKFold\n",
    "from sklearn.preprocessing import LabelEncoder\n",
    "from sklearn.metrics import precision_recall_fscore_support, make_scorer"
   ]
  },
  {
   "cell_type": "code",
   "execution_count": 5,
   "metadata": {},
   "outputs": [],
   "source": [
    "from sklearn.metrics import classification_report, precision_recall_fscore_support, cohen_kappa_score, accuracy_score"
   ]
  },
  {
   "cell_type": "code",
   "execution_count": 6,
   "metadata": {},
   "outputs": [],
   "source": [
    "from sklearn.preprocessing import StandardScaler"
   ]
  },
  {
   "cell_type": "code",
   "execution_count": 7,
   "metadata": {},
   "outputs": [],
   "source": [
    "import pickle"
   ]
  },
  {
   "cell_type": "code",
   "execution_count": 8,
   "metadata": {},
   "outputs": [],
   "source": [
    "%matplotlib inline"
   ]
  },
  {
   "cell_type": "code",
   "execution_count": 9,
   "metadata": {},
   "outputs": [],
   "source": [
    "dat_12_samples = pd.read_csv('/Features.csv',sep=',')\n",
    "dat_8_samples = pd.read_csv('/Features_without_neutral.csv',sep=',')"
   ]
  },
  {
   "cell_type": "code",
   "execution_count": 10,
   "metadata": {},
   "outputs": [],
   "source": [
    "dat_baseline = pd.DataFrame([],columns=dat_12_samples.columns)\n",
    "dat_anger = pd.DataFrame([],columns=dat_12_samples.columns)\n",
    "dat_neutral = pd.DataFrame([],columns=dat_12_samples.columns)"
   ]
  },
  {
   "cell_type": "code",
   "execution_count": 11,
   "metadata": {},
   "outputs": [],
   "source": [
    "dat = pd.concat([dat_12_samples,dat_8_samples])"
   ]
  },
  {
   "cell_type": "code",
   "execution_count": 12,
   "metadata": {},
   "outputs": [],
   "source": [
    "for i in range(len(dat)):\n",
    "    temp = dat.iloc[i,0]\n",
    "    if temp[-1] == '1':\n",
    "        dat_baseline = dat_baseline.append(dat.iloc[i],ignore_index=True)\n",
    "    elif temp[-1] == '2':\n",
    "        dat_anger = dat_anger.append(dat.iloc[i],ignore_index=True)\n",
    "    elif temp[-1] == '3':\n",
    "        dat_neutral = dat_neutral.append(dat.iloc[i],ignore_index=True)"
   ]
  },
  {
   "cell_type": "code",
   "execution_count": 13,
   "metadata": {},
   "outputs": [],
   "source": [
    "for i in range(len(dat_baseline)):\n",
    "    temp = dat_baseline.iloc[i,0]\n",
    "    dat_baseline.iloc[i,0] = temp[:-4]\n",
    "\n",
    "for i in range(len(dat_anger)):\n",
    "    temp = dat_anger.iloc[i,0]\n",
    "    dat_anger.iloc[i,0] = temp[:-4]\n",
    "\n",
    "for i in range(len(dat_neutral)):\n",
    "    temp = dat_neutral.iloc[i,0]\n",
    "    dat_neutral.iloc[i,0] = temp[:-4]"
   ]
  },
  {
   "cell_type": "code",
   "execution_count": 14,
   "metadata": {},
   "outputs": [],
   "source": [
    "skf = StratifiedKFold(n_splits=4, shuffle=True) "
   ]
  },
  {
   "cell_type": "code",
   "execution_count": 15,
   "metadata": {},
   "outputs": [],
   "source": [
    "scaler = StandardScaler()"
   ]
  },
  {
   "cell_type": "code",
   "execution_count": 16,
   "metadata": {},
   "outputs": [],
   "source": [
    "with open('best_params_all.pkl', 'rb') as f:\n",
    "    best_params_all = pickle.load(f)"
   ]
  },
  {
   "cell_type": "code",
   "execution_count": 17,
   "metadata": {},
   "outputs": [],
   "source": [
    "le = LabelEncoder()\n",
    "    \n",
    "dat_baseline['examinee'] = le.fit_transform(dat_baseline['examinee'])\n",
    "dat_anger['examinee'] = le.transform(dat_anger['examinee'])\n",
    "dat_neutral['examinee'] = le.transform(dat_neutral['examinee'])"
   ]
  },
  {
   "cell_type": "code",
   "execution_count": 18,
   "metadata": {},
   "outputs": [],
   "source": [
    "X_neutral = dat_neutral.drop('examinee',axis=1)\n",
    "y_neutral = dat_neutral['examinee']"
   ]
  },
  {
   "cell_type": "code",
   "execution_count": 19,
   "metadata": {},
   "outputs": [],
   "source": [
    "X_anger = dat_anger.drop('examinee',axis=1)\n",
    "y_anger = dat_anger['examinee']"
   ]
  },
  {
   "cell_type": "code",
   "execution_count": 20,
   "metadata": {},
   "outputs": [],
   "source": [
    "X_train = dat_baseline.drop('examinee',axis=1)\n",
    "y_train = dat_baseline['examinee']"
   ]
  },
  {
   "cell_type": "code",
   "execution_count": 21,
   "metadata": {},
   "outputs": [],
   "source": [
    "X_train_scaled = scaler.fit_transform(X_train)\n",
    "X_anger_scaled = scaler.transform(X_anger)\n",
    "X_neutral_scaled = scaler.transform(X_neutral)"
   ]
  },
  {
   "cell_type": "code",
   "execution_count": 22,
   "metadata": {},
   "outputs": [],
   "source": [
    "X = X_train\n",
    "y = y_train"
   ]
  },
  {
   "cell_type": "code",
   "execution_count": 23,
   "metadata": {},
   "outputs": [],
   "source": [
    "num_runs = 20"
   ]
  },
  {
   "cell_type": "code",
   "execution_count": 24,
   "metadata": {},
   "outputs": [],
   "source": [
    "from sklearn.ensemble import RandomForestClassifier"
   ]
  },
  {
   "cell_type": "code",
   "execution_count": 25,
   "metadata": {},
   "outputs": [
    {
     "data": {
      "text/plain": [
       "array([0, 1, 2])"
      ]
     },
     "execution_count": 25,
     "metadata": {},
     "output_type": "execute_result"
    }
   ],
   "source": [
    "np.arange(0,4)[:3]"
   ]
  },
  {
   "cell_type": "code",
   "execution_count": 26,
   "metadata": {},
   "outputs": [],
   "source": [
    "rforest_scores = np.zeros((3,1))\n",
    "rforest_precision_recall_fscore = np.zeros((3,3))\n",
    "# for i in range(num_runs):\n",
    "rforest = RandomForestClassifier(**best_params_all['RF'])\n",
    "rforest_scores[0] = np.mean(cross_val_score(rforest, X_train, y_train, cv = skf))\n",
    "rforest_precision_recall_fscore[0,0] = np.mean(cross_val_score(rforest, X_train, y_train, cv=skf, scoring='precision_weighted'))\n",
    "rforest_precision_recall_fscore[0,1] = np.mean(cross_val_score(rforest, X_train, y_train, cv=skf, scoring='recall_weighted'))\n",
    "rforest_precision_recall_fscore[0,2] = np.mean(cross_val_score(rforest, X_train, y_train, cv=skf, scoring='f1_weighted'))\n",
    "rforest.fit(X_train,y_train)\n",
    "y_hat = rforest.predict(X_anger)\n",
    "rforest_scores[1] = accuracy_score(y_anger, y_hat)\n",
    "rforest_precision_recall_fscore[1,:] = precision_recall_fscore_support(y_anger,y_hat,average='weighted')[:3]\n",
    "y_hat = rforest.predict(X_neutral)\n",
    "rforest_scores[2] = accuracy_score(y_neutral, y_hat)\n",
    "rforest_precision_recall_fscore[2,:] = precision_recall_fscore_support(y_neutral,y_hat,average='weighted')[:3]\n"
   ]
  },
  {
   "cell_type": "code",
   "execution_count": 27,
   "metadata": {},
   "outputs": [],
   "source": [
    "# # Classification accuracy for each feature set\n",
    "# feature_set1 = rforest_scores[:,0]\n",
    "# feature_set2 = rforest_scores[:,1]\n",
    "# feature_set3 = rforest_scores[:,2]\n",
    "\n",
    "# # Perform Shapiro-Wilk test for normality\n",
    "# _, p_value1 = stats.shapiro(feature_set1)\n",
    "# _, p_value2 = stats.shapiro(feature_set2)\n",
    "# _, p_value3 = stats.shapiro(feature_set3)\n",
    "\n",
    "# print(\"Shapiro-Wilk test results:\")\n",
    "# print(\"Feature Set 1 p-value:\", p_value1)\n",
    "# print(\"Feature Set 2 p-value:\", p_value2)\n",
    "# print(\"Feature Set 3 p-value:\", p_value3)\n",
    "\n",
    "# # Check normality assumption\n",
    "# if any(p_value < 0.05 for p_value in [p_value1, p_value2, p_value3]):\n",
    "#     print(\"The data does not follow a normal distribution. Performing Kruskal-Wallis test.\")\n",
    "#     statistic, p_value = stats.kruskal(feature_set1, feature_set2, feature_set3)\n",
    "# else:\n",
    "#     print(\"The data follows a normal distribution. Performing one-way ANOVA test.\")\n",
    "#     statistic, p_value = stats.f_oneway(feature_set1, feature_set2, feature_set3)\n",
    "\n",
    "# print(\"Test results:\")\n",
    "# print(\"Test statistic:\", statistic)\n",
    "# print(\"p-value:\", p_value)\n",
    "\n",
    "# # Check significance at a desired confidence level (e.g., 95%)\n",
    "# if p_value < 0.05:\n",
    "#     print(\"There is a statistically significant difference between the classification accuracies.\")\n",
    "# else:\n",
    "#     print(\"There is no statistically significant difference between the classification accuracies.\")"
   ]
  },
  {
   "cell_type": "code",
   "execution_count": 28,
   "metadata": {},
   "outputs": [],
   "source": [
    "from sklearn.discriminant_analysis import LinearDiscriminantAnalysis"
   ]
  },
  {
   "cell_type": "code",
   "execution_count": 29,
   "metadata": {},
   "outputs": [],
   "source": [
    "lda_scores = np.zeros((3,1))\n",
    "lda_precision_recall_fscore = np.ones((3,3))\n",
    "\n",
    "temp = []\n",
    "# for i in range(num_runs):\n",
    "lda = LinearDiscriminantAnalysis(**best_params_all['LDA'])\n",
    "lda_scores[0] = np.mean(cross_val_score(lda, X_train_scaled, y_train, cv = skf))\n",
    "lda_precision_recall_fscore[0,0] = np.mean(cross_val_score(lda, X_train_scaled, y_train, cv=skf, scoring='precision_weighted'))\n",
    "lda_precision_recall_fscore[0,1] = np.mean(cross_val_score(lda, X_train_scaled, y_train, cv=skf, scoring='recall_weighted'))\n",
    "lda_precision_recall_fscore[0,2] = np.mean(cross_val_score(lda, X_train_scaled, y_train, cv=skf, scoring='f1_weighted'))\n",
    "lda.fit(X_train_scaled,y_train)\n",
    "y_hat = lda.predict(X_anger_scaled)\n",
    "lda_scores[1] = accuracy_score(y_anger, y_hat)\n",
    "lda_precision_recall_fscore[1,:] = precision_recall_fscore_support(y_anger,y_hat,average='weighted')[:3]\n",
    "y_hat = lda.predict(X_neutral_scaled)\n",
    "lda_scores[2] = accuracy_score(y_neutral, y_hat)\n",
    "lda_precision_recall_fscore[2,:] = precision_recall_fscore_support(y_neutral,y_hat,average='weighted')[:3]"
   ]
  },
  {
   "cell_type": "code",
   "execution_count": 30,
   "metadata": {},
   "outputs": [],
   "source": [
    "# # Classification accuracy for each feature set\n",
    "# feature_set1 = lda_scores[:,0]\n",
    "# feature_set2 = lda_scores[:,1]\n",
    "# feature_set3 = lda_scores[:,2]\n",
    "\n",
    "# # Perform Shapiro-Wilk test for normality\n",
    "# _, p_value1 = stats.shapiro(feature_set1)\n",
    "# _, p_value2 = stats.shapiro(feature_set2)\n",
    "# _, p_value3 = stats.shapiro(feature_set3)\n",
    "\n",
    "# print(\"Shapiro-Wilk test results:\")\n",
    "# print(\"Feature Set 1 p-value:\", p_value1)\n",
    "# print(\"Feature Set 2 p-value:\", p_value2)\n",
    "# print(\"Feature Set 3 p-value:\", p_value3)\n",
    "\n",
    "# # Check normality assumption\n",
    "# if any(p_value < 0.05 for p_value in [p_value1, p_value2, p_value3]):\n",
    "#     print(\"The data does not follow a normal distribution. Performing Kruskal-Wallis test.\")\n",
    "#     statistic, p_value = stats.kruskal(feature_set1, feature_set2, feature_set3)\n",
    "# else:\n",
    "#     print(\"The data follows a normal distribution. Performing one-way ANOVA test.\")\n",
    "#     statistic, p_value = stats.f_oneway(feature_set1, feature_set2, feature_set3)\n",
    "\n",
    "# print(\"Test results:\")\n",
    "# print(\"Test statistic:\", statistic)\n",
    "# print(\"p-value:\", p_value)\n",
    "\n",
    "# # Check significance at a desired confidence level (e.g., 95%)\n",
    "# if p_value < 0.05:\n",
    "#     print(\"There is a statistically significant difference between the classification accuracies.\")\n",
    "# else:\n",
    "#     print(\"There is no statistically significant difference between the classification accuracies.\")"
   ]
  },
  {
   "cell_type": "code",
   "execution_count": 31,
   "metadata": {},
   "outputs": [],
   "source": [
    "from sklearn.naive_bayes import GaussianNB"
   ]
  },
  {
   "cell_type": "code",
   "execution_count": 32,
   "metadata": {},
   "outputs": [],
   "source": [
    "gnb_scores = np.zeros((3,1))\n",
    "gnb_precision_recall_fscore = np.zeros((3,3))\n",
    "\n",
    "temp = []\n",
    "# for i in range(num_runs):\n",
    "gnb = GaussianNB(**best_params_all['GNB'])\n",
    "gnb_scores[0] = np.mean(cross_val_score(gnb, X_train_scaled, y_train, cv = skf))\n",
    "gnb_precision_recall_fscore[0,0] = np.mean(cross_val_score(gnb, X_train_scaled, y_train, cv=skf, scoring='precision_weighted'))\n",
    "gnb_precision_recall_fscore[0,1] = np.mean(cross_val_score(gnb, X_train_scaled, y_train, cv=skf, scoring='recall_weighted'))\n",
    "gnb_precision_recall_fscore[0,2] = np.mean(cross_val_score(gnb, X_train_scaled, y_train, cv=skf, scoring='f1_weighted'))\n",
    "gnb.fit(X_train_scaled,y_train)\n",
    "y_hat = gnb.predict(X_anger_scaled)\n",
    "gnb_scores[1] = accuracy_score(y_anger, y_hat)\n",
    "gnb_precision_recall_fscore[1,:] = precision_recall_fscore_support(y_anger,y_hat,average='weighted')[:3]\n",
    "y_hat = gnb.predict(X_neutral_scaled)\n",
    "gnb_scores[2] = accuracy_score(y_neutral, y_hat)\n",
    "gnb_precision_recall_fscore[2,:] = precision_recall_fscore_support(y_neutral,y_hat,average='weighted')[:3]"
   ]
  },
  {
   "cell_type": "code",
   "execution_count": 33,
   "metadata": {},
   "outputs": [],
   "source": [
    "# # Classification accuracy for each feature set\n",
    "# feature_set1 = gnb_scores[:,0]\n",
    "# feature_set2 = gnb_scores[:,1]\n",
    "# feature_set3 = gnb_scores[:,2]\n",
    "\n",
    "# # Perform Shapiro-Wilk test for normality\n",
    "# _, p_value1 = stats.shapiro(feature_set1)\n",
    "# _, p_value2 = stats.shapiro(feature_set2)\n",
    "# _, p_value3 = stats.shapiro(feature_set3)\n",
    "\n",
    "# print(\"Shapiro-Wilk test results:\")\n",
    "# print(\"Feature Set 1 p-value:\", p_value1)\n",
    "# print(\"Feature Set 2 p-value:\", p_value2)\n",
    "# print(\"Feature Set 3 p-value:\", p_value3)\n",
    "\n",
    "# # Check normality assumption\n",
    "# if any(p_value < 0.05 for p_value in [p_value1, p_value2, p_value3]):\n",
    "#     print(\"The data does not follow a normal distribution. Performing Kruskal-Wallis test.\")\n",
    "#     statistic, p_value = stats.kruskal(feature_set1, feature_set2, feature_set3)\n",
    "# else:\n",
    "#     print(\"The data follows a normal distribution. Performing one-way ANOVA test.\")\n",
    "#     statistic, p_value = stats.f_oneway(feature_set1, feature_set2, feature_set3)\n",
    "\n",
    "# print(\"Test results:\")\n",
    "# print(\"Test statistic:\", statistic)\n",
    "# print(\"p-value:\", p_value)\n",
    "\n",
    "# # Check significance at a desired confidence level (e.g., 95%)\n",
    "# if p_value < 0.05:\n",
    "#     print(\"There is a statistically significant difference between the classification accuracies.\")\n",
    "# else:\n",
    "#     print(\"There is no statistically significant difference between the classification accuracies.\")"
   ]
  },
  {
   "cell_type": "code",
   "execution_count": 34,
   "metadata": {},
   "outputs": [],
   "source": [
    "from sklearn.svm import SVC"
   ]
  },
  {
   "cell_type": "code",
   "execution_count": 35,
   "metadata": {},
   "outputs": [],
   "source": [
    "svm_scores = np.zeros((3,1))\n",
    "svm_precision_recall_fscore = np.zeros((3,3))\n",
    "temp = []\n",
    "# for i in range(num_runs):\n",
    "svm = SVC(**best_params_all['SVM'])\n",
    "svm_scores[0] = np.mean(cross_val_score(svm, X_train_scaled, y_train, cv = skf))\n",
    "svm_precision_recall_fscore[0,0] = np.mean(cross_val_score(svm, X_train_scaled, y_train, cv=skf, scoring='precision_weighted'))\n",
    "svm_precision_recall_fscore[0,1] = np.mean(cross_val_score(svm, X_train_scaled, y_train, cv=skf, scoring='recall_weighted'))\n",
    "svm_precision_recall_fscore[0,2] = np.mean(cross_val_score(svm, X_train_scaled, y_train, cv=skf, scoring='f1_weighted'))\n",
    "svm.fit(X_train_scaled,y_train)\n",
    "y_hat = svm.predict(X_anger_scaled)\n",
    "svm_scores[1] = accuracy_score(y_anger, y_hat)\n",
    "svm_precision_recall_fscore[1,:] = precision_recall_fscore_support(y_anger,y_hat,average='weighted')[:3]\n",
    "y_hat = svm.predict(X_neutral_scaled)\n",
    "svm_scores[2] = accuracy_score(y_neutral, y_hat)\n",
    "svm_precision_recall_fscore[2,:] = precision_recall_fscore_support(y_neutral,y_hat,average='weighted')[:3]"
   ]
  },
  {
   "cell_type": "code",
   "execution_count": 36,
   "metadata": {},
   "outputs": [],
   "source": [
    "# # Classification accuracy for each feature set\n",
    "# feature_set1 = svm_scores[:,0]\n",
    "# feature_set2 = svm_scores[:,1]\n",
    "# feature_set3 = svm_scores[:,2]\n",
    "\n",
    "# # Perform Shapiro-Wilk test for normality\n",
    "# _, p_value1 = stats.shapiro(feature_set1)\n",
    "# _, p_value2 = stats.shapiro(feature_set2)\n",
    "# _, p_value3 = stats.shapiro(feature_set3)\n",
    "\n",
    "# print(\"Shapiro-Wilk test results:\")\n",
    "# print(\"Feature Set 1 p-value:\", p_value1)\n",
    "# print(\"Feature Set 2 p-value:\", p_value2)\n",
    "# print(\"Feature Set 3 p-value:\", p_value3)\n",
    "\n",
    "# # Check normality assumption\n",
    "# if any(p_value < 0.05 for p_value in [p_value1, p_value2, p_value3]):\n",
    "#     print(\"The data does not follow a normal distribution. Performing Kruskal-Wallis test.\")\n",
    "#     statistic, p_value = stats.kruskal(feature_set1, feature_set2, feature_set3)\n",
    "# else:\n",
    "#     print(\"The data follows a normal distribution. Performing one-way ANOVA test.\")\n",
    "#     statistic, p_value = stats.f_oneway(feature_set1, feature_set2, feature_set3)\n",
    "\n",
    "# print(\"Test results:\")\n",
    "# print(\"Test statistic:\", statistic)\n",
    "# print(\"p-value:\", p_value)\n",
    "\n",
    "# # Check significance at a desired confidence level (e.g., 95%)\n",
    "# if p_value < 0.05:\n",
    "#     print(\"There is a statistically significant difference between the classification accuracies.\")\n",
    "# else:\n",
    "#     print(\"There is no statistically significant difference between the classification accuracies.\")"
   ]
  },
  {
   "cell_type": "code",
   "execution_count": 37,
   "metadata": {},
   "outputs": [],
   "source": [
    "# labels = ['RF', 'SVM', 'GNB', 'LDA']\n",
    "# baseline_mean = [np.mean(rforest_scores, axis=0)[0] * 100,np.mean(svm_scores, axis=0)[0] * 100,np.mean(gnb_scores, axis=0)[0] * 100,np.mean(lda_scores, axis=0)[0] * 100]\n",
    "# anger_mean = [np.mean(rforest_scores, axis=0)[1] * 100,np.mean(svm_scores, axis=0)[1] * 100,np.mean(gnb_scores, axis=0)[1] * 100,np.mean(lda_scores, axis=0)[1] * 100]\n",
    "# neutral_mean = [np.mean(rforest_scores, axis=0)[2] * 100,np.mean(svm_scores, axis=0)[2] * 100,np.mean(gnb_scores, axis=0)[2] * 100,np.mean(lda_scores, axis=0)[2] * 100]\n",
    "\n",
    "# baseline_std = [np.std(rforest_scores, axis=0)[0] * 100,np.std(svm_scores, axis=0)[0] * 100,np.std(gnb_scores, axis=0)[0] * 100,np.std(lda_scores, axis=0)[0] * 100]\n",
    "# anger_std = [np.std(rforest_scores, axis=0)[1] * 100,np.std(svm_scores, axis=0)[1] * 100,np.std(gnb_scores, axis=0)[1] * 100,np.std(lda_scores, axis=0)[1] * 100]\n",
    "# neutral_std = [np.std(rforest_scores, axis=0)[2] * 100,np.std(svm_scores, axis=0)[2] * 100,np.std(gnb_scores, axis=0)[2] * 100,np.std(lda_scores, axis=0)[2] * 100]\n",
    "\n",
    "# plt.rcParams.update({'font.size': 22})\n",
    "\n",
    "# n=4\n",
    "# r = np.arange(n)\n",
    "# width = 0.25\n",
    "  \n",
    "# plt.figure(figsize=(16,12))\n",
    "# plt.bar(r, baseline_mean, color = '#994C00',\n",
    "#         yerr=baseline_std, capsize=30,\n",
    "#         error_kw={'lw': 5},\n",
    "#         width = width, edgecolor = 'black',\n",
    "#         label='Baseline')\n",
    "# plt.bar(r + width, anger_mean, color = '#003300',\n",
    "#         yerr=anger_std, capsize=30,\n",
    "#         error_kw={'lw': 5},\n",
    "#         width = width, edgecolor = 'black',\n",
    "#         label='Anger')\n",
    "# plt.bar(r + 2*width, neutral_mean, color = '#660033',\n",
    "#         yerr=neutral_std, capsize=30,\n",
    "#         error_kw={'lw': 5},\n",
    "#         width = width, edgecolor = 'black',\n",
    "#         label='Neutral')\n",
    "\n",
    "  \n",
    "# plt.grid(axis='y', linestyle='--', color='black')\n",
    "# plt.xticks(r + width/2,labels)\n",
    "# plt.legend(loc = 'lower left')\n",
    "# plt.xlabel('Classifer type')\n",
    "# plt.ylabel('Classification accuracy [%]')\n",
    "# plt.title('Comparative analysis of classifiers by emotional state')\n",
    "\n",
    "# for i, v in enumerate(baseline_mean):\n",
    "#     plt.text(i, v + baseline_std[i] + 1, f'{v:.1f}', color='black', ha='center')\n",
    "\n",
    "# for i, v in enumerate(anger_mean):\n",
    "#     plt.text(i + width, v + anger_std[i] + 1, f'{v:.1f}', color='black', ha='center')\n",
    "\n",
    "# for i, v in enumerate(neutral_mean):\n",
    "#     plt.text(i + 2 * width, v + neutral_std[i] + 1, f'{v:.1f}', color='black', ha='center')\n"
   ]
  },
  {
   "cell_type": "code",
   "execution_count": 38,
   "metadata": {},
   "outputs": [
    {
     "data": {
      "text/plain": [
       "array([0.92166667])"
      ]
     },
     "execution_count": 38,
     "metadata": {},
     "output_type": "execute_result"
    }
   ],
   "source": [
    "rforest_scores[2]"
   ]
  },
  {
   "cell_type": "code",
   "execution_count": 39,
   "metadata": {},
   "outputs": [
    {
     "data": {
      "image/png": "[encoded data removed]",
      "text/plain": [
       "<Figure size 864x576 with 1 Axes>"
      ]
     },
     "metadata": {
      "needs_background": "light"
     },
     "output_type": "display_data"
    }
   ],
   "source": [
    "labels = ['RF', 'SVM', 'GNB', 'LDA']\n",
    "baseline_acc = [float(rforest_scores[0]) * 100, float(svm_scores[0]) * 100, float(gnb_scores[0]) * 100, float(lda_scores[0]) * 100]\n",
    "anger_acc = [float(rforest_scores[1]) * 100, float(svm_scores[1]) * 100, float(gnb_scores[1]) * 100, float(lda_scores[1]) * 100]\n",
    "neutral_acc = [float(rforest_scores[2]) * 100, float(svm_scores[2]) * 100, float(gnb_scores[2]) * 100, float(lda_scores[2]) * 100]\n",
    "\n",
    "plt.rcParams.update({'font.size': 22})\n",
    "\n",
    "n = 4\n",
    "r = np.arange(n)\n",
    "height = 0.25\n",
    "\n",
    "plt.figure(figsize=(12, 8))\n",
    "plt.barh(r + 2 * height, baseline_acc, color='#00CCCC',\n",
    "         height=height, edgecolor='black',\n",
    "         label='Baseline')\n",
    "plt.barh(r + height, anger_acc, color='#800020',\n",
    "         height=height, edgecolor='black',\n",
    "         label='Anger')\n",
    "plt.barh(r, neutral_acc, color='#C0C0C0',\n",
    "         height=height, edgecolor='black',\n",
    "         label='Neutral')\n",
    "\n",
    "plt.grid(axis='x', linestyle='--', color='black')\n",
    "plt.yticks(r + height/2, labels)\n",
    "plt.legend(loc='lower left')\n",
    "plt.xlabel('Classification accuracy [%]')\n",
    "plt.ylabel('Classifier type - Baseline learning')\n",
    "plt.title('Comparative analysis of classifiers by emotional state')\n",
    "plt.xlim((0, 110))\n",
    "\n",
    "for i, v in enumerate(neutral_acc):\n",
    "    plt.text(v + 1, i, f'{v:.1f}', color='black', va='center')\n",
    "\n",
    "for i, v in enumerate(anger_acc):\n",
    "    plt.text(v + 1, i + height, f'{v:.1f}', color='black', va='center')\n",
    "\n",
    "for i, v in enumerate(baseline_acc):\n",
    "    plt.text(v + 1, i + 2 * height, f'{v:.1f}', color='black', va='center')\n",
    "\n",
    "plt.show()\n"
   ]
  },
  {
   "cell_type": "code",
   "execution_count": 40,
   "metadata": {},
   "outputs": [
    {
     "name": "stdout",
     "output_type": "stream",
     "text": [
      "[[90.27 82.48 86.41]\n",
      " [92.63 80.41 81.67]\n",
      " [90.94 79.38 82.21]]\n"
     ]
    }
   ],
   "source": [
    "print(np.round(svm_precision_recall_fscore*100,2).T)"
   ]
  },
  {
   "cell_type": "code",
   "execution_count": null,
   "metadata": {},
   "outputs": [],
   "source": []
  }
 ],
 "metadata": {
  "kernelspec": {
   "display_name": "Python 3",
   "language": "python",
   "name": "python3"
  },
  "language_info": {
   "codemirror_mode": {
    "name": "ipython",
    "version": 3
   },
   "file_extension": ".py",
   "mimetype": "text/x-python",
   "name": "python",
   "nbconvert_exporter": "python",
   "pygments_lexer": "ipython3",
   "version": "3.9.13"
  },
  "orig_nbformat": 4,
  "vscode": {
   "interpreter": {
    "hash": "8a5edab282632443219e051e4ade2d1d5bbc671c781051bf1437897cbdfea0f1"
   }
  }
 },
 "nbformat": 4,
 "nbformat_minor": 2
}
